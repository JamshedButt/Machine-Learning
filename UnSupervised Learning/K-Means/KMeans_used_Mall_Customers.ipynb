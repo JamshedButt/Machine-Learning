{
  "nbformat": 4,
  "nbformat_minor": 0,
  "metadata": {
    "colab": {
      "provenance": []
    },
    "kernelspec": {
      "name": "python3",
      "display_name": "Python 3"
    },
    "language_info": {
      "name": "python"
    }
  },
  "cells": [
    {
      "cell_type": "code",
      "execution_count": 1,
      "metadata": {
        "id": "FGgvxa943X7r"
      },
      "outputs": [],
      "source": [
        "import numpy as np\n",
        "import matplotlib.pyplot as plt\n",
        "import pandas as pd"
      ]
    },
    {
      "cell_type": "code",
      "source": [
        "df = pd.read_csv(\"/content/Mall_Customers.csv\")"
      ],
      "metadata": {
        "id": "6NtqxCcu3qL_"
      },
      "execution_count": 2,
      "outputs": []
    },
    {
      "cell_type": "code",
      "source": [
        "df.head()"
      ],
      "metadata": {
        "colab": {
          "base_uri": "https://localhost:8080/",
          "height": 206
        },
        "id": "5beAZ36_3vAo",
        "outputId": "8fdc01e4-bf14-456c-ab3b-4fab3f4e34ef"
      },
      "execution_count": 3,
      "outputs": [
        {
          "output_type": "execute_result",
          "data": {
            "text/plain": [
              "   CustomerID   Genre  Age  Annual Income (k$)  Spending Score (1-100)\n",
              "0           1    Male   19                  15                      39\n",
              "1           2    Male   21                  15                      81\n",
              "2           3  Female   20                  16                       6\n",
              "3           4  Female   23                  16                      77\n",
              "4           5  Female   31                  17                      40"
            ],
            "text/html": [
              "\n",
              "  <div id=\"df-a0e1a799-0ee8-4204-aae5-0545f486a3d5\">\n",
              "    <div class=\"colab-df-container\">\n",
              "      <div>\n",
              "<style scoped>\n",
              "    .dataframe tbody tr th:only-of-type {\n",
              "        vertical-align: middle;\n",
              "    }\n",
              "\n",
              "    .dataframe tbody tr th {\n",
              "        vertical-align: top;\n",
              "    }\n",
              "\n",
              "    .dataframe thead th {\n",
              "        text-align: right;\n",
              "    }\n",
              "</style>\n",
              "<table border=\"1\" class=\"dataframe\">\n",
              "  <thead>\n",
              "    <tr style=\"text-align: right;\">\n",
              "      <th></th>\n",
              "      <th>CustomerID</th>\n",
              "      <th>Genre</th>\n",
              "      <th>Age</th>\n",
              "      <th>Annual Income (k$)</th>\n",
              "      <th>Spending Score (1-100)</th>\n",
              "    </tr>\n",
              "  </thead>\n",
              "  <tbody>\n",
              "    <tr>\n",
              "      <th>0</th>\n",
              "      <td>1</td>\n",
              "      <td>Male</td>\n",
              "      <td>19</td>\n",
              "      <td>15</td>\n",
              "      <td>39</td>\n",
              "    </tr>\n",
              "    <tr>\n",
              "      <th>1</th>\n",
              "      <td>2</td>\n",
              "      <td>Male</td>\n",
              "      <td>21</td>\n",
              "      <td>15</td>\n",
              "      <td>81</td>\n",
              "    </tr>\n",
              "    <tr>\n",
              "      <th>2</th>\n",
              "      <td>3</td>\n",
              "      <td>Female</td>\n",
              "      <td>20</td>\n",
              "      <td>16</td>\n",
              "      <td>6</td>\n",
              "    </tr>\n",
              "    <tr>\n",
              "      <th>3</th>\n",
              "      <td>4</td>\n",
              "      <td>Female</td>\n",
              "      <td>23</td>\n",
              "      <td>16</td>\n",
              "      <td>77</td>\n",
              "    </tr>\n",
              "    <tr>\n",
              "      <th>4</th>\n",
              "      <td>5</td>\n",
              "      <td>Female</td>\n",
              "      <td>31</td>\n",
              "      <td>17</td>\n",
              "      <td>40</td>\n",
              "    </tr>\n",
              "  </tbody>\n",
              "</table>\n",
              "</div>\n",
              "      <button class=\"colab-df-convert\" onclick=\"convertToInteractive('df-a0e1a799-0ee8-4204-aae5-0545f486a3d5')\"\n",
              "              title=\"Convert this dataframe to an interactive table.\"\n",
              "              style=\"display:none;\">\n",
              "        \n",
              "  <svg xmlns=\"http://www.w3.org/2000/svg\" height=\"24px\"viewBox=\"0 0 24 24\"\n",
              "       width=\"24px\">\n",
              "    <path d=\"M0 0h24v24H0V0z\" fill=\"none\"/>\n",
              "    <path d=\"M18.56 5.44l.94 2.06.94-2.06 2.06-.94-2.06-.94-.94-2.06-.94 2.06-2.06.94zm-11 1L8.5 8.5l.94-2.06 2.06-.94-2.06-.94L8.5 2.5l-.94 2.06-2.06.94zm10 10l.94 2.06.94-2.06 2.06-.94-2.06-.94-.94-2.06-.94 2.06-2.06.94z\"/><path d=\"M17.41 7.96l-1.37-1.37c-.4-.4-.92-.59-1.43-.59-.52 0-1.04.2-1.43.59L10.3 9.45l-7.72 7.72c-.78.78-.78 2.05 0 2.83L4 21.41c.39.39.9.59 1.41.59.51 0 1.02-.2 1.41-.59l7.78-7.78 2.81-2.81c.8-.78.8-2.07 0-2.86zM5.41 20L4 18.59l7.72-7.72 1.47 1.35L5.41 20z\"/>\n",
              "  </svg>\n",
              "      </button>\n",
              "      \n",
              "  <style>\n",
              "    .colab-df-container {\n",
              "      display:flex;\n",
              "      flex-wrap:wrap;\n",
              "      gap: 12px;\n",
              "    }\n",
              "\n",
              "    .colab-df-convert {\n",
              "      background-color: #E8F0FE;\n",
              "      border: none;\n",
              "      border-radius: 50%;\n",
              "      cursor: pointer;\n",
              "      display: none;\n",
              "      fill: #1967D2;\n",
              "      height: 32px;\n",
              "      padding: 0 0 0 0;\n",
              "      width: 32px;\n",
              "    }\n",
              "\n",
              "    .colab-df-convert:hover {\n",
              "      background-color: #E2EBFA;\n",
              "      box-shadow: 0px 1px 2px rgba(60, 64, 67, 0.3), 0px 1px 3px 1px rgba(60, 64, 67, 0.15);\n",
              "      fill: #174EA6;\n",
              "    }\n",
              "\n",
              "    [theme=dark] .colab-df-convert {\n",
              "      background-color: #3B4455;\n",
              "      fill: #D2E3FC;\n",
              "    }\n",
              "\n",
              "    [theme=dark] .colab-df-convert:hover {\n",
              "      background-color: #434B5C;\n",
              "      box-shadow: 0px 1px 3px 1px rgba(0, 0, 0, 0.15);\n",
              "      filter: drop-shadow(0px 1px 2px rgba(0, 0, 0, 0.3));\n",
              "      fill: #FFFFFF;\n",
              "    }\n",
              "  </style>\n",
              "\n",
              "      <script>\n",
              "        const buttonEl =\n",
              "          document.querySelector('#df-a0e1a799-0ee8-4204-aae5-0545f486a3d5 button.colab-df-convert');\n",
              "        buttonEl.style.display =\n",
              "          google.colab.kernel.accessAllowed ? 'block' : 'none';\n",
              "\n",
              "        async function convertToInteractive(key) {\n",
              "          const element = document.querySelector('#df-a0e1a799-0ee8-4204-aae5-0545f486a3d5');\n",
              "          const dataTable =\n",
              "            await google.colab.kernel.invokeFunction('convertToInteractive',\n",
              "                                                     [key], {});\n",
              "          if (!dataTable) return;\n",
              "\n",
              "          const docLinkHtml = 'Like what you see? Visit the ' +\n",
              "            '<a target=\"_blank\" href=https://colab.research.google.com/notebooks/data_table.ipynb>data table notebook</a>'\n",
              "            + ' to learn more about interactive tables.';\n",
              "          element.innerHTML = '';\n",
              "          dataTable['output_type'] = 'display_data';\n",
              "          await google.colab.output.renderOutput(dataTable, element);\n",
              "          const docLink = document.createElement('div');\n",
              "          docLink.innerHTML = docLinkHtml;\n",
              "          element.appendChild(docLink);\n",
              "        }\n",
              "      </script>\n",
              "    </div>\n",
              "  </div>\n",
              "  "
            ]
          },
          "metadata": {},
          "execution_count": 3
        }
      ]
    },
    {
      "cell_type": "code",
      "source": [
        "df.shape"
      ],
      "metadata": {
        "colab": {
          "base_uri": "https://localhost:8080/"
        },
        "id": "7CN8_dOS3wZW",
        "outputId": "0a27db61-6199-429c-dda4-8964945c7669"
      },
      "execution_count": 4,
      "outputs": [
        {
          "output_type": "execute_result",
          "data": {
            "text/plain": [
              "(200, 5)"
            ]
          },
          "metadata": {},
          "execution_count": 4
        }
      ]
    },
    {
      "cell_type": "code",
      "source": [
        "df.info"
      ],
      "metadata": {
        "colab": {
          "base_uri": "https://localhost:8080/"
        },
        "id": "dcKD8UP93zi4",
        "outputId": "35a28ddc-ece4-4341-f311-7d3796b7a20a"
      },
      "execution_count": 5,
      "outputs": [
        {
          "output_type": "execute_result",
          "data": {
            "text/plain": [
              "<bound method DataFrame.info of      CustomerID   Genre  Age  Annual Income (k$)  Spending Score (1-100)\n",
              "0             1    Male   19                  15                      39\n",
              "1             2    Male   21                  15                      81\n",
              "2             3  Female   20                  16                       6\n",
              "3             4  Female   23                  16                      77\n",
              "4             5  Female   31                  17                      40\n",
              "..          ...     ...  ...                 ...                     ...\n",
              "195         196  Female   35                 120                      79\n",
              "196         197  Female   45                 126                      28\n",
              "197         198    Male   32                 126                      74\n",
              "198         199    Male   32                 137                      18\n",
              "199         200    Male   30                 137                      83\n",
              "\n",
              "[200 rows x 5 columns]>"
            ]
          },
          "metadata": {},
          "execution_count": 5
        }
      ]
    },
    {
      "cell_type": "code",
      "source": [
        "df.isnull().sum()"
      ],
      "metadata": {
        "colab": {
          "base_uri": "https://localhost:8080/"
        },
        "id": "hZR1b2oH31_R",
        "outputId": "e8cbe54b-c8b7-4c2a-fcad-fb8f4c2e2d73"
      },
      "execution_count": 6,
      "outputs": [
        {
          "output_type": "execute_result",
          "data": {
            "text/plain": [
              "CustomerID                0\n",
              "Genre                     0\n",
              "Age                       0\n",
              "Annual Income (k$)        0\n",
              "Spending Score (1-100)    0\n",
              "dtype: int64"
            ]
          },
          "metadata": {},
          "execution_count": 6
        }
      ]
    },
    {
      "cell_type": "code",
      "source": [
        "X = df.iloc[:,[3,4]].values"
      ],
      "metadata": {
        "id": "3_QFrhnK3_FJ"
      },
      "execution_count": 7,
      "outputs": []
    },
    {
      "cell_type": "code",
      "source": [
        "X.shape"
      ],
      "metadata": {
        "colab": {
          "base_uri": "https://localhost:8080/"
        },
        "id": "Yy8Ud4GO5BDD",
        "outputId": "ed720f27-2940-43a4-a2a1-a0bd254c59cc"
      },
      "execution_count": 8,
      "outputs": [
        {
          "output_type": "execute_result",
          "data": {
            "text/plain": [
              "(200, 2)"
            ]
          },
          "metadata": {},
          "execution_count": 8
        }
      ]
    },
    {
      "cell_type": "code",
      "source": [
        "X"
      ],
      "metadata": {
        "colab": {
          "base_uri": "https://localhost:8080/"
        },
        "id": "kzsRtSPx5CbN",
        "outputId": "73f97df4-c793-4851-d19a-d1cfeb505e22"
      },
      "execution_count": 9,
      "outputs": [
        {
          "output_type": "execute_result",
          "data": {
            "text/plain": [
              "array([[ 15,  39],\n",
              "       [ 15,  81],\n",
              "       [ 16,   6],\n",
              "       [ 16,  77],\n",
              "       [ 17,  40],\n",
              "       [ 17,  76],\n",
              "       [ 18,   6],\n",
              "       [ 18,  94],\n",
              "       [ 19,   3],\n",
              "       [ 19,  72],\n",
              "       [ 19,  14],\n",
              "       [ 19,  99],\n",
              "       [ 20,  15],\n",
              "       [ 20,  77],\n",
              "       [ 20,  13],\n",
              "       [ 20,  79],\n",
              "       [ 21,  35],\n",
              "       [ 21,  66],\n",
              "       [ 23,  29],\n",
              "       [ 23,  98],\n",
              "       [ 24,  35],\n",
              "       [ 24,  73],\n",
              "       [ 25,   5],\n",
              "       [ 25,  73],\n",
              "       [ 28,  14],\n",
              "       [ 28,  82],\n",
              "       [ 28,  32],\n",
              "       [ 28,  61],\n",
              "       [ 29,  31],\n",
              "       [ 29,  87],\n",
              "       [ 30,   4],\n",
              "       [ 30,  73],\n",
              "       [ 33,   4],\n",
              "       [ 33,  92],\n",
              "       [ 33,  14],\n",
              "       [ 33,  81],\n",
              "       [ 34,  17],\n",
              "       [ 34,  73],\n",
              "       [ 37,  26],\n",
              "       [ 37,  75],\n",
              "       [ 38,  35],\n",
              "       [ 38,  92],\n",
              "       [ 39,  36],\n",
              "       [ 39,  61],\n",
              "       [ 39,  28],\n",
              "       [ 39,  65],\n",
              "       [ 40,  55],\n",
              "       [ 40,  47],\n",
              "       [ 40,  42],\n",
              "       [ 40,  42],\n",
              "       [ 42,  52],\n",
              "       [ 42,  60],\n",
              "       [ 43,  54],\n",
              "       [ 43,  60],\n",
              "       [ 43,  45],\n",
              "       [ 43,  41],\n",
              "       [ 44,  50],\n",
              "       [ 44,  46],\n",
              "       [ 46,  51],\n",
              "       [ 46,  46],\n",
              "       [ 46,  56],\n",
              "       [ 46,  55],\n",
              "       [ 47,  52],\n",
              "       [ 47,  59],\n",
              "       [ 48,  51],\n",
              "       [ 48,  59],\n",
              "       [ 48,  50],\n",
              "       [ 48,  48],\n",
              "       [ 48,  59],\n",
              "       [ 48,  47],\n",
              "       [ 49,  55],\n",
              "       [ 49,  42],\n",
              "       [ 50,  49],\n",
              "       [ 50,  56],\n",
              "       [ 54,  47],\n",
              "       [ 54,  54],\n",
              "       [ 54,  53],\n",
              "       [ 54,  48],\n",
              "       [ 54,  52],\n",
              "       [ 54,  42],\n",
              "       [ 54,  51],\n",
              "       [ 54,  55],\n",
              "       [ 54,  41],\n",
              "       [ 54,  44],\n",
              "       [ 54,  57],\n",
              "       [ 54,  46],\n",
              "       [ 57,  58],\n",
              "       [ 57,  55],\n",
              "       [ 58,  60],\n",
              "       [ 58,  46],\n",
              "       [ 59,  55],\n",
              "       [ 59,  41],\n",
              "       [ 60,  49],\n",
              "       [ 60,  40],\n",
              "       [ 60,  42],\n",
              "       [ 60,  52],\n",
              "       [ 60,  47],\n",
              "       [ 60,  50],\n",
              "       [ 61,  42],\n",
              "       [ 61,  49],\n",
              "       [ 62,  41],\n",
              "       [ 62,  48],\n",
              "       [ 62,  59],\n",
              "       [ 62,  55],\n",
              "       [ 62,  56],\n",
              "       [ 62,  42],\n",
              "       [ 63,  50],\n",
              "       [ 63,  46],\n",
              "       [ 63,  43],\n",
              "       [ 63,  48],\n",
              "       [ 63,  52],\n",
              "       [ 63,  54],\n",
              "       [ 64,  42],\n",
              "       [ 64,  46],\n",
              "       [ 65,  48],\n",
              "       [ 65,  50],\n",
              "       [ 65,  43],\n",
              "       [ 65,  59],\n",
              "       [ 67,  43],\n",
              "       [ 67,  57],\n",
              "       [ 67,  56],\n",
              "       [ 67,  40],\n",
              "       [ 69,  58],\n",
              "       [ 69,  91],\n",
              "       [ 70,  29],\n",
              "       [ 70,  77],\n",
              "       [ 71,  35],\n",
              "       [ 71,  95],\n",
              "       [ 71,  11],\n",
              "       [ 71,  75],\n",
              "       [ 71,   9],\n",
              "       [ 71,  75],\n",
              "       [ 72,  34],\n",
              "       [ 72,  71],\n",
              "       [ 73,   5],\n",
              "       [ 73,  88],\n",
              "       [ 73,   7],\n",
              "       [ 73,  73],\n",
              "       [ 74,  10],\n",
              "       [ 74,  72],\n",
              "       [ 75,   5],\n",
              "       [ 75,  93],\n",
              "       [ 76,  40],\n",
              "       [ 76,  87],\n",
              "       [ 77,  12],\n",
              "       [ 77,  97],\n",
              "       [ 77,  36],\n",
              "       [ 77,  74],\n",
              "       [ 78,  22],\n",
              "       [ 78,  90],\n",
              "       [ 78,  17],\n",
              "       [ 78,  88],\n",
              "       [ 78,  20],\n",
              "       [ 78,  76],\n",
              "       [ 78,  16],\n",
              "       [ 78,  89],\n",
              "       [ 78,   1],\n",
              "       [ 78,  78],\n",
              "       [ 78,   1],\n",
              "       [ 78,  73],\n",
              "       [ 79,  35],\n",
              "       [ 79,  83],\n",
              "       [ 81,   5],\n",
              "       [ 81,  93],\n",
              "       [ 85,  26],\n",
              "       [ 85,  75],\n",
              "       [ 86,  20],\n",
              "       [ 86,  95],\n",
              "       [ 87,  27],\n",
              "       [ 87,  63],\n",
              "       [ 87,  13],\n",
              "       [ 87,  75],\n",
              "       [ 87,  10],\n",
              "       [ 87,  92],\n",
              "       [ 88,  13],\n",
              "       [ 88,  86],\n",
              "       [ 88,  15],\n",
              "       [ 88,  69],\n",
              "       [ 93,  14],\n",
              "       [ 93,  90],\n",
              "       [ 97,  32],\n",
              "       [ 97,  86],\n",
              "       [ 98,  15],\n",
              "       [ 98,  88],\n",
              "       [ 99,  39],\n",
              "       [ 99,  97],\n",
              "       [101,  24],\n",
              "       [101,  68],\n",
              "       [103,  17],\n",
              "       [103,  85],\n",
              "       [103,  23],\n",
              "       [103,  69],\n",
              "       [113,   8],\n",
              "       [113,  91],\n",
              "       [120,  16],\n",
              "       [120,  79],\n",
              "       [126,  28],\n",
              "       [126,  74],\n",
              "       [137,  18],\n",
              "       [137,  83]])"
            ]
          },
          "metadata": {},
          "execution_count": 9
        }
      ]
    },
    {
      "cell_type": "code",
      "source": [
        "from sklearn.preprocessing import StandardScaler"
      ],
      "metadata": {
        "id": "FAARpHY15E3U"
      },
      "execution_count": 10,
      "outputs": []
    },
    {
      "cell_type": "code",
      "source": [
        "sc = StandardScaler()\n",
        "X = sc.fit_transform(X)"
      ],
      "metadata": {
        "id": "5rNItDgT5Uce"
      },
      "execution_count": 12,
      "outputs": []
    },
    {
      "cell_type": "code",
      "source": [
        "X"
      ],
      "metadata": {
        "colab": {
          "base_uri": "https://localhost:8080/"
        },
        "id": "AB9MivDD5frB",
        "outputId": "af7e81a2-fab4-49e1-cede-ced0153b0c3c"
      },
      "execution_count": 13,
      "outputs": [
        {
          "output_type": "execute_result",
          "data": {
            "text/plain": [
              "array([[-1.73899919, -0.43480148],\n",
              "       [-1.73899919,  1.19570407],\n",
              "       [-1.70082976, -1.71591298],\n",
              "       [-1.70082976,  1.04041783],\n",
              "       [-1.66266033, -0.39597992],\n",
              "       [-1.66266033,  1.00159627],\n",
              "       [-1.62449091, -1.71591298],\n",
              "       [-1.62449091,  1.70038436],\n",
              "       [-1.58632148, -1.83237767],\n",
              "       [-1.58632148,  0.84631002],\n",
              "       [-1.58632148, -1.4053405 ],\n",
              "       [-1.58632148,  1.89449216],\n",
              "       [-1.54815205, -1.36651894],\n",
              "       [-1.54815205,  1.04041783],\n",
              "       [-1.54815205, -1.44416206],\n",
              "       [-1.54815205,  1.11806095],\n",
              "       [-1.50998262, -0.59008772],\n",
              "       [-1.50998262,  0.61338066],\n",
              "       [-1.43364376, -0.82301709],\n",
              "       [-1.43364376,  1.8556706 ],\n",
              "       [-1.39547433, -0.59008772],\n",
              "       [-1.39547433,  0.88513158],\n",
              "       [-1.3573049 , -1.75473454],\n",
              "       [-1.3573049 ,  0.88513158],\n",
              "       [-1.24279661, -1.4053405 ],\n",
              "       [-1.24279661,  1.23452563],\n",
              "       [-1.24279661, -0.7065524 ],\n",
              "       [-1.24279661,  0.41927286],\n",
              "       [-1.20462718, -0.74537397],\n",
              "       [-1.20462718,  1.42863343],\n",
              "       [-1.16645776, -1.7935561 ],\n",
              "       [-1.16645776,  0.88513158],\n",
              "       [-1.05194947, -1.7935561 ],\n",
              "       [-1.05194947,  1.62274124],\n",
              "       [-1.05194947, -1.4053405 ],\n",
              "       [-1.05194947,  1.19570407],\n",
              "       [-1.01378004, -1.28887582],\n",
              "       [-1.01378004,  0.88513158],\n",
              "       [-0.89927175, -0.93948177],\n",
              "       [-0.89927175,  0.96277471],\n",
              "       [-0.86110232, -0.59008772],\n",
              "       [-0.86110232,  1.62274124],\n",
              "       [-0.82293289, -0.55126616],\n",
              "       [-0.82293289,  0.41927286],\n",
              "       [-0.82293289, -0.86183865],\n",
              "       [-0.82293289,  0.5745591 ],\n",
              "       [-0.78476346,  0.18634349],\n",
              "       [-0.78476346, -0.12422899],\n",
              "       [-0.78476346, -0.3183368 ],\n",
              "       [-0.78476346, -0.3183368 ],\n",
              "       [-0.70842461,  0.06987881],\n",
              "       [-0.70842461,  0.38045129],\n",
              "       [-0.67025518,  0.14752193],\n",
              "       [-0.67025518,  0.38045129],\n",
              "       [-0.67025518, -0.20187212],\n",
              "       [-0.67025518, -0.35715836],\n",
              "       [-0.63208575, -0.00776431],\n",
              "       [-0.63208575, -0.16305055],\n",
              "       [-0.55574689,  0.03105725],\n",
              "       [-0.55574689, -0.16305055],\n",
              "       [-0.55574689,  0.22516505],\n",
              "       [-0.55574689,  0.18634349],\n",
              "       [-0.51757746,  0.06987881],\n",
              "       [-0.51757746,  0.34162973],\n",
              "       [-0.47940803,  0.03105725],\n",
              "       [-0.47940803,  0.34162973],\n",
              "       [-0.47940803, -0.00776431],\n",
              "       [-0.47940803, -0.08540743],\n",
              "       [-0.47940803,  0.34162973],\n",
              "       [-0.47940803, -0.12422899],\n",
              "       [-0.4412386 ,  0.18634349],\n",
              "       [-0.4412386 , -0.3183368 ],\n",
              "       [-0.40306917, -0.04658587],\n",
              "       [-0.40306917,  0.22516505],\n",
              "       [-0.25039146, -0.12422899],\n",
              "       [-0.25039146,  0.14752193],\n",
              "       [-0.25039146,  0.10870037],\n",
              "       [-0.25039146, -0.08540743],\n",
              "       [-0.25039146,  0.06987881],\n",
              "       [-0.25039146, -0.3183368 ],\n",
              "       [-0.25039146,  0.03105725],\n",
              "       [-0.25039146,  0.18634349],\n",
              "       [-0.25039146, -0.35715836],\n",
              "       [-0.25039146, -0.24069368],\n",
              "       [-0.25039146,  0.26398661],\n",
              "       [-0.25039146, -0.16305055],\n",
              "       [-0.13588317,  0.30280817],\n",
              "       [-0.13588317,  0.18634349],\n",
              "       [-0.09771374,  0.38045129],\n",
              "       [-0.09771374, -0.16305055],\n",
              "       [-0.05954431,  0.18634349],\n",
              "       [-0.05954431, -0.35715836],\n",
              "       [-0.02137488, -0.04658587],\n",
              "       [-0.02137488, -0.39597992],\n",
              "       [-0.02137488, -0.3183368 ],\n",
              "       [-0.02137488,  0.06987881],\n",
              "       [-0.02137488, -0.12422899],\n",
              "       [-0.02137488, -0.00776431],\n",
              "       [ 0.01679455, -0.3183368 ],\n",
              "       [ 0.01679455, -0.04658587],\n",
              "       [ 0.05496398, -0.35715836],\n",
              "       [ 0.05496398, -0.08540743],\n",
              "       [ 0.05496398,  0.34162973],\n",
              "       [ 0.05496398,  0.18634349],\n",
              "       [ 0.05496398,  0.22516505],\n",
              "       [ 0.05496398, -0.3183368 ],\n",
              "       [ 0.09313341, -0.00776431],\n",
              "       [ 0.09313341, -0.16305055],\n",
              "       [ 0.09313341, -0.27951524],\n",
              "       [ 0.09313341, -0.08540743],\n",
              "       [ 0.09313341,  0.06987881],\n",
              "       [ 0.09313341,  0.14752193],\n",
              "       [ 0.13130284, -0.3183368 ],\n",
              "       [ 0.13130284, -0.16305055],\n",
              "       [ 0.16947227, -0.08540743],\n",
              "       [ 0.16947227, -0.00776431],\n",
              "       [ 0.16947227, -0.27951524],\n",
              "       [ 0.16947227,  0.34162973],\n",
              "       [ 0.24581112, -0.27951524],\n",
              "       [ 0.24581112,  0.26398661],\n",
              "       [ 0.24581112,  0.22516505],\n",
              "       [ 0.24581112, -0.39597992],\n",
              "       [ 0.32214998,  0.30280817],\n",
              "       [ 0.32214998,  1.58391968],\n",
              "       [ 0.36031941, -0.82301709],\n",
              "       [ 0.36031941,  1.04041783],\n",
              "       [ 0.39848884, -0.59008772],\n",
              "       [ 0.39848884,  1.73920592],\n",
              "       [ 0.39848884, -1.52180518],\n",
              "       [ 0.39848884,  0.96277471],\n",
              "       [ 0.39848884, -1.5994483 ],\n",
              "       [ 0.39848884,  0.96277471],\n",
              "       [ 0.43665827, -0.62890928],\n",
              "       [ 0.43665827,  0.80748846],\n",
              "       [ 0.4748277 , -1.75473454],\n",
              "       [ 0.4748277 ,  1.46745499],\n",
              "       [ 0.4748277 , -1.67709142],\n",
              "       [ 0.4748277 ,  0.88513158],\n",
              "       [ 0.51299713, -1.56062674],\n",
              "       [ 0.51299713,  0.84631002],\n",
              "       [ 0.55116656, -1.75473454],\n",
              "       [ 0.55116656,  1.6615628 ],\n",
              "       [ 0.58933599, -0.39597992],\n",
              "       [ 0.58933599,  1.42863343],\n",
              "       [ 0.62750542, -1.48298362],\n",
              "       [ 0.62750542,  1.81684904],\n",
              "       [ 0.62750542, -0.55126616],\n",
              "       [ 0.62750542,  0.92395314],\n",
              "       [ 0.66567484, -1.09476801],\n",
              "       [ 0.66567484,  1.54509812],\n",
              "       [ 0.66567484, -1.28887582],\n",
              "       [ 0.66567484,  1.46745499],\n",
              "       [ 0.66567484, -1.17241113],\n",
              "       [ 0.66567484,  1.00159627],\n",
              "       [ 0.66567484, -1.32769738],\n",
              "       [ 0.66567484,  1.50627656],\n",
              "       [ 0.66567484, -1.91002079],\n",
              "       [ 0.66567484,  1.07923939],\n",
              "       [ 0.66567484, -1.91002079],\n",
              "       [ 0.66567484,  0.88513158],\n",
              "       [ 0.70384427, -0.59008772],\n",
              "       [ 0.70384427,  1.27334719],\n",
              "       [ 0.78018313, -1.75473454],\n",
              "       [ 0.78018313,  1.6615628 ],\n",
              "       [ 0.93286085, -0.93948177],\n",
              "       [ 0.93286085,  0.96277471],\n",
              "       [ 0.97103028, -1.17241113],\n",
              "       [ 0.97103028,  1.73920592],\n",
              "       [ 1.00919971, -0.90066021],\n",
              "       [ 1.00919971,  0.49691598],\n",
              "       [ 1.00919971, -1.44416206],\n",
              "       [ 1.00919971,  0.96277471],\n",
              "       [ 1.00919971, -1.56062674],\n",
              "       [ 1.00919971,  1.62274124],\n",
              "       [ 1.04736914, -1.44416206],\n",
              "       [ 1.04736914,  1.38981187],\n",
              "       [ 1.04736914, -1.36651894],\n",
              "       [ 1.04736914,  0.72984534],\n",
              "       [ 1.23821628, -1.4053405 ],\n",
              "       [ 1.23821628,  1.54509812],\n",
              "       [ 1.390894  , -0.7065524 ],\n",
              "       [ 1.390894  ,  1.38981187],\n",
              "       [ 1.42906343, -1.36651894],\n",
              "       [ 1.42906343,  1.46745499],\n",
              "       [ 1.46723286, -0.43480148],\n",
              "       [ 1.46723286,  1.81684904],\n",
              "       [ 1.54357172, -1.01712489],\n",
              "       [ 1.54357172,  0.69102378],\n",
              "       [ 1.61991057, -1.28887582],\n",
              "       [ 1.61991057,  1.35099031],\n",
              "       [ 1.61991057, -1.05594645],\n",
              "       [ 1.61991057,  0.72984534],\n",
              "       [ 2.00160487, -1.63826986],\n",
              "       [ 2.00160487,  1.58391968],\n",
              "       [ 2.26879087, -1.32769738],\n",
              "       [ 2.26879087,  1.11806095],\n",
              "       [ 2.49780745, -0.86183865],\n",
              "       [ 2.49780745,  0.92395314],\n",
              "       [ 2.91767117, -1.25005425],\n",
              "       [ 2.91767117,  1.27334719]])"
            ]
          },
          "metadata": {},
          "execution_count": 13
        }
      ]
    },
    {
      "cell_type": "code",
      "source": [
        "from sklearn.cluster import KMeans"
      ],
      "metadata": {
        "id": "Mc2h2Frx5j5-"
      },
      "execution_count": 14,
      "outputs": []
    },
    {
      "cell_type": "code",
      "source": [
        "# k == number of cluster"
      ],
      "metadata": {
        "id": "-Md8q_a38SNo"
      },
      "execution_count": 15,
      "outputs": []
    },
    {
      "cell_type": "code",
      "source": [
        "wscc = []"
      ],
      "metadata": {
        "id": "Z2ajhPuG8x9V"
      },
      "execution_count": 16,
      "outputs": []
    },
    {
      "cell_type": "code",
      "source": [
        "for i in range(1,11):\n",
        "  model = KMeans(n_clusters=i,init=\"k-means++\",random_state=0)\n",
        "  model.fit(X)\n",
        "  wscc.append(model.inertia_)"
      ],
      "metadata": {
        "id": "jcqezgAw80gj"
      },
      "execution_count": 17,
      "outputs": []
    },
    {
      "cell_type": "code",
      "source": [
        "plt.plot(range(1,11),wscc)\n",
        "plt.title(\"The Elbow Method\")\n",
        "plt.xlabel(\"Number Of Cluster\")\n",
        "plt.ylabel(\"wscc\")\n",
        "plt.show()"
      ],
      "metadata": {
        "colab": {
          "base_uri": "https://localhost:8080/",
          "height": 295
        },
        "id": "G5IB9ICaAC_g",
        "outputId": "fce315eb-4feb-4c76-c649-6f47b842665c"
      },
      "execution_count": 18,
      "outputs": [
        {
          "output_type": "display_data",
          "data": {
            "text/plain": [
              "<Figure size 432x288 with 1 Axes>"
            ],
            "image/png": "[encoded data removed]"
          },
          "metadata": {
            "needs_background": "light"
          }
        }
      ]
    },
    {
      "cell_type": "code",
      "source": [
        "model2 = KMeans(n_clusters=5,random_state=0)"
      ],
      "metadata": {
        "id": "dAZPeOAvA49n"
      },
      "execution_count": 19,
      "outputs": []
    },
    {
      "cell_type": "code",
      "source": [
        "model2.fit(X)"
      ],
      "metadata": {
        "colab": {
          "base_uri": "https://localhost:8080/"
        },
        "id": "Sotc06RtChKM",
        "outputId": "ed01930c-0ad4-44c6-8720-3d26542e7681"
      },
      "execution_count": 20,
      "outputs": [
        {
          "output_type": "execute_result",
          "data": {
            "text/plain": [
              "KMeans(n_clusters=5, random_state=0)"
            ]
          },
          "metadata": {},
          "execution_count": 20
        }
      ]
    },
    {
      "cell_type": "code",
      "source": [
        "y_cluster = model2.predict(X)"
      ],
      "metadata": {
        "id": "fXTr_cGWCinh"
      },
      "execution_count": 21,
      "outputs": []
    },
    {
      "cell_type": "code",
      "source": [
        "y_cluster"
      ],
      "metadata": {
        "colab": {
          "base_uri": "https://localhost:8080/"
        },
        "id": "DMQhe1fvCwrE",
        "outputId": "9a8db6c8-fef4-4016-9407-9f729e7a963e"
      },
      "execution_count": 22,
      "outputs": [
        {
          "output_type": "execute_result",
          "data": {
            "text/plain": [
              "array([4, 3, 4, 3, 4, 3, 4, 3, 4, 3, 4, 3, 4, 3, 4, 3, 4, 3, 4, 3, 4, 3,\n",
              "       4, 3, 4, 3, 4, 3, 4, 3, 4, 3, 4, 3, 4, 3, 4, 3, 4, 3, 4, 3, 4, 1,\n",
              "       4, 3, 1, 1, 1, 1, 1, 1, 1, 1, 1, 1, 1, 1, 1, 1, 1, 1, 1, 1, 1, 1,\n",
              "       1, 1, 1, 1, 1, 1, 1, 1, 1, 1, 1, 1, 1, 1, 1, 1, 1, 1, 1, 1, 1, 1,\n",
              "       1, 1, 1, 1, 1, 1, 1, 1, 1, 1, 1, 1, 1, 1, 1, 1, 1, 1, 1, 1, 1, 1,\n",
              "       1, 1, 1, 1, 1, 1, 1, 1, 1, 1, 1, 1, 1, 2, 0, 2, 1, 2, 0, 2, 0, 2,\n",
              "       1, 2, 0, 2, 0, 2, 0, 2, 0, 2, 1, 2, 0, 2, 0, 2, 0, 2, 0, 2, 0, 2,\n",
              "       0, 2, 0, 2, 0, 2, 0, 2, 0, 2, 0, 2, 0, 2, 0, 2, 0, 2, 0, 2, 0, 2,\n",
              "       0, 2, 0, 2, 0, 2, 0, 2, 0, 2, 0, 2, 0, 2, 0, 2, 0, 2, 0, 2, 0, 2,\n",
              "       0, 2], dtype=int32)"
            ]
          },
          "metadata": {},
          "execution_count": 22
        }
      ]
    },
    {
      "cell_type": "code",
      "source": [
        "plt.scatter(X[:,0],X[:,1],c=y_cluster)"
      ],
      "metadata": {
        "colab": {
          "base_uri": "https://localhost:8080/",
          "height": 282
        },
        "id": "X24x0EuuCxlt",
        "outputId": "58b4aea4-7ee2-4f04-b6b6-484919367e35"
      },
      "execution_count": 24,
      "outputs": [
        {
          "output_type": "execute_result",
          "data": {
            "text/plain": [
              "<matplotlib.collections.PathCollection at 0x7f332dd56f10>"
            ]
          },
          "metadata": {},
          "execution_count": 24
        },
        {
          "output_type": "display_data",
          "data": {
            "text/plain": [
              "<Figure size 432x288 with 1 Axes>"
            ],
            "image/png": "[encoded data removed]"
          },
          "metadata": {
            "needs_background": "light"
          }
        }
      ]
    },
    {
      "cell_type": "code",
      "source": [],
      "metadata": {
        "id": "CKdZSIzBDEI3"
      },
      "execution_count": null,
      "outputs": []
    }
  ]
}