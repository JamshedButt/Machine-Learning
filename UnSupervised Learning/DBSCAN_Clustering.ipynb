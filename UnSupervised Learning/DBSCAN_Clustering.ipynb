{
  "nbformat": 4,
  "nbformat_minor": 0,
  "metadata": {
    "colab": {
      "provenance": []
    },
    "kernelspec": {
      "name": "python3",
      "display_name": "Python 3"
    },
    "language_info": {
      "name": "python"
    }
  },
  "cells": [
    {
      "cell_type": "markdown",
      "source": [
        "Dansity Based Spatial Clustering Of Application with Noise(DBSCAN) is a clustering algorithm which was proposed in 1996"
      ],
      "metadata": {
        "id": "eB2YPpGDZxzy"
      }
    },
    {
      "cell_type": "markdown",
      "source": [
        "#Step 1: Importing the important libraries."
      ],
      "metadata": {
        "id": "zhJO9hTWxMrr"
      }
    },
    {
      "cell_type": "code",
      "source": [
        "#Step 1: Importing the important libraries.\n",
        "import numpy as np\n",
        "import pandas as pd\n",
        "import matplotlib.pyplot as plt\n",
        "\n",
        "from sklearn.cluster import DBSCAN\n",
        "from sklearn.preprocessing import StandardScaler\n",
        "from sklearn.preprocessing import normalize\n",
        "from sklearn.decomposition import PCA #(Principle Componant Analysis) (This is used for reduce the feature (Example he reduce 30 feature to 3 feature) capability)."
      ],
      "metadata": {
        "id": "tdCMfXsyaYq7"
      },
      "execution_count": 7,
      "outputs": []
    },
    {
      "cell_type": "markdown",
      "source": [
        "# Step 2: Read The Data."
      ],
      "metadata": {
        "id": "vNcfUkF9xQVf"
      }
    },
    {
      "cell_type": "code",
      "source": [
        "df = pd.read_csv(\"/content/CC GENERAL.csv\")"
      ],
      "metadata": {
        "id": "vKgIhec5cFRj"
      },
      "execution_count": 8,
      "outputs": []
    },
    {
      "cell_type": "code",
      "source": [
        "df.head()"
      ],
      "metadata": {
        "colab": {
          "base_uri": "https://localhost:8080/",
          "height": 270
        },
        "id": "a5XyTpx4eKCe",
        "outputId": "fd22d4c3-b4d3-4bb8-caef-1f9b26208505"
      },
      "execution_count": 9,
      "outputs": [
        {
          "output_type": "execute_result",
          "data": {
            "text/plain": [
              "  CUST_ID      BALANCE  BALANCE_FREQUENCY  PURCHASES  ONEOFF_PURCHASES  \\\n",
              "0  C10001    40.900749           0.818182      95.40              0.00   \n",
              "1  C10002  3202.467416           0.909091       0.00              0.00   \n",
              "2  C10003  2495.148862           1.000000     773.17            773.17   \n",
              "3  C10004  1666.670542           0.636364    1499.00           1499.00   \n",
              "4  C10005   817.714335           1.000000      16.00             16.00   \n",
              "\n",
              "   INSTALLMENTS_PURCHASES  CASH_ADVANCE  PURCHASES_FREQUENCY  \\\n",
              "0                    95.4      0.000000             0.166667   \n",
              "1                     0.0   6442.945483             0.000000   \n",
              "2                     0.0      0.000000             1.000000   \n",
              "3                     0.0    205.788017             0.083333   \n",
              "4                     0.0      0.000000             0.083333   \n",
              "\n",
              "   ONEOFF_PURCHASES_FREQUENCY  PURCHASES_INSTALLMENTS_FREQUENCY  \\\n",
              "0                    0.000000                          0.083333   \n",
              "1                    0.000000                          0.000000   \n",
              "2                    1.000000                          0.000000   \n",
              "3                    0.083333                          0.000000   \n",
              "4                    0.083333                          0.000000   \n",
              "\n",
              "   CASH_ADVANCE_FREQUENCY  CASH_ADVANCE_TRX  PURCHASES_TRX  CREDIT_LIMIT  \\\n",
              "0                0.000000                 0              2        1000.0   \n",
              "1                0.250000                 4              0        7000.0   \n",
              "2                0.000000                 0             12        7500.0   \n",
              "3                0.083333                 1              1        7500.0   \n",
              "4                0.000000                 0              1        1200.0   \n",
              "\n",
              "      PAYMENTS  MINIMUM_PAYMENTS  PRC_FULL_PAYMENT  TENURE  \n",
              "0   201.802084        139.509787          0.000000      12  \n",
              "1  4103.032597       1072.340217          0.222222      12  \n",
              "2   622.066742        627.284787          0.000000      12  \n",
              "3     0.000000               NaN          0.000000      12  \n",
              "4   678.334763        244.791237          0.000000      12  "
            ],
            "text/html": [
              "\n",
              "  <div id=\"df-2516381c-62a7-4675-9c8e-7efe0d545682\">\n",
              "    <div class=\"colab-df-container\">\n",
              "      <div>\n",
              "<style scoped>\n",
              "    .dataframe tbody tr th:only-of-type {\n",
              "        vertical-align: middle;\n",
              "    }\n",
              "\n",
              "    .dataframe tbody tr th {\n",
              "        vertical-align: top;\n",
              "    }\n",
              "\n",
              "    .dataframe thead th {\n",
              "        text-align: right;\n",
              "    }\n",
              "</style>\n",
              "<table border=\"1\" class=\"dataframe\">\n",
              "  <thead>\n",
              "    <tr style=\"text-align: right;\">\n",
              "      <th></th>\n",
              "      <th>CUST_ID</th>\n",
              "      <th>BALANCE</th>\n",
              "      <th>BALANCE_FREQUENCY</th>\n",
              "      <th>PURCHASES</th>\n",
              "      <th>ONEOFF_PURCHASES</th>\n",
              "      <th>INSTALLMENTS_PURCHASES</th>\n",
              "      <th>CASH_ADVANCE</th>\n",
              "      <th>PURCHASES_FREQUENCY</th>\n",
              "      <th>ONEOFF_PURCHASES_FREQUENCY</th>\n",
              "      <th>PURCHASES_INSTALLMENTS_FREQUENCY</th>\n",
              "      <th>CASH_ADVANCE_FREQUENCY</th>\n",
              "      <th>CASH_ADVANCE_TRX</th>\n",
              "      <th>PURCHASES_TRX</th>\n",
              "      <th>CREDIT_LIMIT</th>\n",
              "      <th>PAYMENTS</th>\n",
              "      <th>MINIMUM_PAYMENTS</th>\n",
              "      <th>PRC_FULL_PAYMENT</th>\n",
              "      <th>TENURE</th>\n",
              "    </tr>\n",
              "  </thead>\n",
              "  <tbody>\n",
              "    <tr>\n",
              "      <th>0</th>\n",
              "      <td>C10001</td>\n",
              "      <td>40.900749</td>\n",
              "      <td>0.818182</td>\n",
              "      <td>95.40</td>\n",
              "      <td>0.00</td>\n",
              "      <td>95.4</td>\n",
              "      <td>0.000000</td>\n",
              "      <td>0.166667</td>\n",
              "      <td>0.000000</td>\n",
              "      <td>0.083333</td>\n",
              "      <td>0.000000</td>\n",
              "      <td>0</td>\n",
              "      <td>2</td>\n",
              "      <td>1000.0</td>\n",
              "      <td>201.802084</td>\n",
              "      <td>139.509787</td>\n",
              "      <td>0.000000</td>\n",
              "      <td>12</td>\n",
              "    </tr>\n",
              "    <tr>\n",
              "      <th>1</th>\n",
              "      <td>C10002</td>\n",
              "      <td>3202.467416</td>\n",
              "      <td>0.909091</td>\n",
              "      <td>0.00</td>\n",
              "      <td>0.00</td>\n",
              "      <td>0.0</td>\n",
              "      <td>6442.945483</td>\n",
              "      <td>0.000000</td>\n",
              "      <td>0.000000</td>\n",
              "      <td>0.000000</td>\n",
              "      <td>0.250000</td>\n",
              "      <td>4</td>\n",
              "      <td>0</td>\n",
              "      <td>7000.0</td>\n",
              "      <td>4103.032597</td>\n",
              "      <td>1072.340217</td>\n",
              "      <td>0.222222</td>\n",
              "      <td>12</td>\n",
              "    </tr>\n",
              "    <tr>\n",
              "      <th>2</th>\n",
              "      <td>C10003</td>\n",
              "      <td>2495.148862</td>\n",
              "      <td>1.000000</td>\n",
              "      <td>773.17</td>\n",
              "      <td>773.17</td>\n",
              "      <td>0.0</td>\n",
              "      <td>0.000000</td>\n",
              "      <td>1.000000</td>\n",
              "      <td>1.000000</td>\n",
              "      <td>0.000000</td>\n",
              "      <td>0.000000</td>\n",
              "      <td>0</td>\n",
              "      <td>12</td>\n",
              "      <td>7500.0</td>\n",
              "      <td>622.066742</td>\n",
              "      <td>627.284787</td>\n",
              "      <td>0.000000</td>\n",
              "      <td>12</td>\n",
              "    </tr>\n",
              "    <tr>\n",
              "      <th>3</th>\n",
              "      <td>C10004</td>\n",
              "      <td>1666.670542</td>\n",
              "      <td>0.636364</td>\n",
              "      <td>1499.00</td>\n",
              "      <td>1499.00</td>\n",
              "      <td>0.0</td>\n",
              "      <td>205.788017</td>\n",
              "      <td>0.083333</td>\n",
              "      <td>0.083333</td>\n",
              "      <td>0.000000</td>\n",
              "      <td>0.083333</td>\n",
              "      <td>1</td>\n",
              "      <td>1</td>\n",
              "      <td>7500.0</td>\n",
              "      <td>0.000000</td>\n",
              "      <td>NaN</td>\n",
              "      <td>0.000000</td>\n",
              "      <td>12</td>\n",
              "    </tr>\n",
              "    <tr>\n",
              "      <th>4</th>\n",
              "      <td>C10005</td>\n",
              "      <td>817.714335</td>\n",
              "      <td>1.000000</td>\n",
              "      <td>16.00</td>\n",
              "      <td>16.00</td>\n",
              "      <td>0.0</td>\n",
              "      <td>0.000000</td>\n",
              "      <td>0.083333</td>\n",
              "      <td>0.083333</td>\n",
              "      <td>0.000000</td>\n",
              "      <td>0.000000</td>\n",
              "      <td>0</td>\n",
              "      <td>1</td>\n",
              "      <td>1200.0</td>\n",
              "      <td>678.334763</td>\n",
              "      <td>244.791237</td>\n",
              "      <td>0.000000</td>\n",
              "      <td>12</td>\n",
              "    </tr>\n",
              "  </tbody>\n",
              "</table>\n",
              "</div>\n",
              "      <button class=\"colab-df-convert\" onclick=\"convertToInteractive('df-2516381c-62a7-4675-9c8e-7efe0d545682')\"\n",
              "              title=\"Convert this dataframe to an interactive table.\"\n",
              "              style=\"display:none;\">\n",
              "        \n",
              "  <svg xmlns=\"http://www.w3.org/2000/svg\" height=\"24px\"viewBox=\"0 0 24 24\"\n",
              "       width=\"24px\">\n",
              "    <path d=\"M0 0h24v24H0V0z\" fill=\"none\"/>\n",
              "    <path d=\"M18.56 5.44l.94 2.06.94-2.06 2.06-.94-2.06-.94-.94-2.06-.94 2.06-2.06.94zm-11 1L8.5 8.5l.94-2.06 2.06-.94-2.06-.94L8.5 2.5l-.94 2.06-2.06.94zm10 10l.94 2.06.94-2.06 2.06-.94-2.06-.94-.94-2.06-.94 2.06-2.06.94z\"/><path d=\"M17.41 7.96l-1.37-1.37c-.4-.4-.92-.59-1.43-.59-.52 0-1.04.2-1.43.59L10.3 9.45l-7.72 7.72c-.78.78-.78 2.05 0 2.83L4 21.41c.39.39.9.59 1.41.59.51 0 1.02-.2 1.41-.59l7.78-7.78 2.81-2.81c.8-.78.8-2.07 0-2.86zM5.41 20L4 18.59l7.72-7.72 1.47 1.35L5.41 20z\"/>\n",
              "  </svg>\n",
              "      </button>\n",
              "      \n",
              "  <style>\n",
              "    .colab-df-container {\n",
              "      display:flex;\n",
              "      flex-wrap:wrap;\n",
              "      gap: 12px;\n",
              "    }\n",
              "\n",
              "    .colab-df-convert {\n",
              "      background-color: #E8F0FE;\n",
              "      border: none;\n",
              "      border-radius: 50%;\n",
              "      cursor: pointer;\n",
              "      display: none;\n",
              "      fill: #1967D2;\n",
              "      height: 32px;\n",
              "      padding: 0 0 0 0;\n",
              "      width: 32px;\n",
              "    }\n",
              "\n",
              "    .colab-df-convert:hover {\n",
              "      background-color: #E2EBFA;\n",
              "      box-shadow: 0px 1px 2px rgba(60, 64, 67, 0.3), 0px 1px 3px 1px rgba(60, 64, 67, 0.15);\n",
              "      fill: #174EA6;\n",
              "    }\n",
              "\n",
              "    [theme=dark] .colab-df-convert {\n",
              "      background-color: #3B4455;\n",
              "      fill: #D2E3FC;\n",
              "    }\n",
              "\n",
              "    [theme=dark] .colab-df-convert:hover {\n",
              "      background-color: #434B5C;\n",
              "      box-shadow: 0px 1px 3px 1px rgba(0, 0, 0, 0.15);\n",
              "      filter: drop-shadow(0px 1px 2px rgba(0, 0, 0, 0.3));\n",
              "      fill: #FFFFFF;\n",
              "    }\n",
              "  </style>\n",
              "\n",
              "      <script>\n",
              "        const buttonEl =\n",
              "          document.querySelector('#df-2516381c-62a7-4675-9c8e-7efe0d545682 button.colab-df-convert');\n",
              "        buttonEl.style.display =\n",
              "          google.colab.kernel.accessAllowed ? 'block' : 'none';\n",
              "\n",
              "        async function convertToInteractive(key) {\n",
              "          const element = document.querySelector('#df-2516381c-62a7-4675-9c8e-7efe0d545682');\n",
              "          const dataTable =\n",
              "            await google.colab.kernel.invokeFunction('convertToInteractive',\n",
              "                                                     [key], {});\n",
              "          if (!dataTable) return;\n",
              "\n",
              "          const docLinkHtml = 'Like what you see? Visit the ' +\n",
              "            '<a target=\"_blank\" href=https://colab.research.google.com/notebooks/data_table.ipynb>data table notebook</a>'\n",
              "            + ' to learn more about interactive tables.';\n",
              "          element.innerHTML = '';\n",
              "          dataTable['output_type'] = 'display_data';\n",
              "          await google.colab.output.renderOutput(dataTable, element);\n",
              "          const docLink = document.createElement('div');\n",
              "          docLink.innerHTML = docLinkHtml;\n",
              "          element.appendChild(docLink);\n",
              "        }\n",
              "      </script>\n",
              "    </div>\n",
              "  </div>\n",
              "  "
            ]
          },
          "metadata": {},
          "execution_count": 9
        }
      ]
    },
    {
      "cell_type": "code",
      "source": [
        "df.info()"
      ],
      "metadata": {
        "colab": {
          "base_uri": "https://localhost:8080/"
        },
        "id": "dJtVpuxZeLfs",
        "outputId": "2d112f04-c3da-4b67-b771-43fe757718c4"
      },
      "execution_count": 11,
      "outputs": [
        {
          "output_type": "stream",
          "name": "stdout",
          "text": [
            "<class 'pandas.core.frame.DataFrame'>\n",
            "RangeIndex: 8950 entries, 0 to 8949\n",
            "Data columns (total 18 columns):\n",
            " #   Column                            Non-Null Count  Dtype  \n",
            "---  ------                            --------------  -----  \n",
            " 0   CUST_ID                           8950 non-null   object \n",
            " 1   BALANCE                           8950 non-null   float64\n",
            " 2   BALANCE_FREQUENCY                 8950 non-null   float64\n",
            " 3   PURCHASES                         8950 non-null   float64\n",
            " 4   ONEOFF_PURCHASES                  8950 non-null   float64\n",
            " 5   INSTALLMENTS_PURCHASES            8950 non-null   float64\n",
            " 6   CASH_ADVANCE                      8950 non-null   float64\n",
            " 7   PURCHASES_FREQUENCY               8950 non-null   float64\n",
            " 8   ONEOFF_PURCHASES_FREQUENCY        8950 non-null   float64\n",
            " 9   PURCHASES_INSTALLMENTS_FREQUENCY  8950 non-null   float64\n",
            " 10  CASH_ADVANCE_FREQUENCY            8950 non-null   float64\n",
            " 11  CASH_ADVANCE_TRX                  8950 non-null   int64  \n",
            " 12  PURCHASES_TRX                     8950 non-null   int64  \n",
            " 13  CREDIT_LIMIT                      8949 non-null   float64\n",
            " 14  PAYMENTS                          8950 non-null   float64\n",
            " 15  MINIMUM_PAYMENTS                  8637 non-null   float64\n",
            " 16  PRC_FULL_PAYMENT                  8950 non-null   float64\n",
            " 17  TENURE                            8950 non-null   int64  \n",
            "dtypes: float64(14), int64(3), object(1)\n",
            "memory usage: 1.2+ MB\n"
          ]
        }
      ]
    },
    {
      "cell_type": "code",
      "source": [
        "X = df.drop(\"CUST_ID\",axis=1)"
      ],
      "metadata": {
        "id": "Pg0nAqMYu6Z8"
      },
      "execution_count": 12,
      "outputs": []
    },
    {
      "cell_type": "code",
      "source": [
        "X.info()"
      ],
      "metadata": {
        "colab": {
          "base_uri": "https://localhost:8080/"
        },
        "id": "WYcajOccvV4X",
        "outputId": "e1e05ef9-d2ad-41ab-d40a-469b0bc7f752"
      },
      "execution_count": 13,
      "outputs": [
        {
          "output_type": "stream",
          "name": "stdout",
          "text": [
            "<class 'pandas.core.frame.DataFrame'>\n",
            "RangeIndex: 8950 entries, 0 to 8949\n",
            "Data columns (total 17 columns):\n",
            " #   Column                            Non-Null Count  Dtype  \n",
            "---  ------                            --------------  -----  \n",
            " 0   BALANCE                           8950 non-null   float64\n",
            " 1   BALANCE_FREQUENCY                 8950 non-null   float64\n",
            " 2   PURCHASES                         8950 non-null   float64\n",
            " 3   ONEOFF_PURCHASES                  8950 non-null   float64\n",
            " 4   INSTALLMENTS_PURCHASES            8950 non-null   float64\n",
            " 5   CASH_ADVANCE                      8950 non-null   float64\n",
            " 6   PURCHASES_FREQUENCY               8950 non-null   float64\n",
            " 7   ONEOFF_PURCHASES_FREQUENCY        8950 non-null   float64\n",
            " 8   PURCHASES_INSTALLMENTS_FREQUENCY  8950 non-null   float64\n",
            " 9   CASH_ADVANCE_FREQUENCY            8950 non-null   float64\n",
            " 10  CASH_ADVANCE_TRX                  8950 non-null   int64  \n",
            " 11  PURCHASES_TRX                     8950 non-null   int64  \n",
            " 12  CREDIT_LIMIT                      8949 non-null   float64\n",
            " 13  PAYMENTS                          8950 non-null   float64\n",
            " 14  MINIMUM_PAYMENTS                  8637 non-null   float64\n",
            " 15  PRC_FULL_PAYMENT                  8950 non-null   float64\n",
            " 16  TENURE                            8950 non-null   int64  \n",
            "dtypes: float64(14), int64(3)\n",
            "memory usage: 1.2 MB\n"
          ]
        }
      ]
    },
    {
      "cell_type": "code",
      "source": [
        "X.isnull().sum()"
      ],
      "metadata": {
        "colab": {
          "base_uri": "https://localhost:8080/"
        },
        "id": "wDt_aXhIvxAB",
        "outputId": "c28cd763-c02d-4476-c27f-79a4e0a5a58d"
      },
      "execution_count": 14,
      "outputs": [
        {
          "output_type": "execute_result",
          "data": {
            "text/plain": [
              "BALANCE                               0\n",
              "BALANCE_FREQUENCY                     0\n",
              "PURCHASES                             0\n",
              "ONEOFF_PURCHASES                      0\n",
              "INSTALLMENTS_PURCHASES                0\n",
              "CASH_ADVANCE                          0\n",
              "PURCHASES_FREQUENCY                   0\n",
              "ONEOFF_PURCHASES_FREQUENCY            0\n",
              "PURCHASES_INSTALLMENTS_FREQUENCY      0\n",
              "CASH_ADVANCE_FREQUENCY                0\n",
              "CASH_ADVANCE_TRX                      0\n",
              "PURCHASES_TRX                         0\n",
              "CREDIT_LIMIT                          1\n",
              "PAYMENTS                              0\n",
              "MINIMUM_PAYMENTS                    313\n",
              "PRC_FULL_PAYMENT                      0\n",
              "TENURE                                0\n",
              "dtype: int64"
            ]
          },
          "metadata": {},
          "execution_count": 14
        }
      ]
    },
    {
      "cell_type": "code",
      "source": [
        "X.fillna(method=\"ffill\", inplace=True)"
      ],
      "metadata": {
        "id": "aH4lueFjvdEL"
      },
      "execution_count": 15,
      "outputs": []
    },
    {
      "cell_type": "code",
      "source": [
        "X.isnull().sum()"
      ],
      "metadata": {
        "colab": {
          "base_uri": "https://localhost:8080/"
        },
        "id": "p43GZGJxv6jS",
        "outputId": "4ae2c9cb-da40-4b45-c746-da7d031ad2ef"
      },
      "execution_count": 16,
      "outputs": [
        {
          "output_type": "execute_result",
          "data": {
            "text/plain": [
              "BALANCE                             0\n",
              "BALANCE_FREQUENCY                   0\n",
              "PURCHASES                           0\n",
              "ONEOFF_PURCHASES                    0\n",
              "INSTALLMENTS_PURCHASES              0\n",
              "CASH_ADVANCE                        0\n",
              "PURCHASES_FREQUENCY                 0\n",
              "ONEOFF_PURCHASES_FREQUENCY          0\n",
              "PURCHASES_INSTALLMENTS_FREQUENCY    0\n",
              "CASH_ADVANCE_FREQUENCY              0\n",
              "CASH_ADVANCE_TRX                    0\n",
              "PURCHASES_TRX                       0\n",
              "CREDIT_LIMIT                        0\n",
              "PAYMENTS                            0\n",
              "MINIMUM_PAYMENTS                    0\n",
              "PRC_FULL_PAYMENT                    0\n",
              "TENURE                              0\n",
              "dtype: int64"
            ]
          },
          "metadata": {},
          "execution_count": 16
        }
      ]
    },
    {
      "cell_type": "code",
      "source": [
        "X.shape"
      ],
      "metadata": {
        "colab": {
          "base_uri": "https://localhost:8080/"
        },
        "id": "o1V94NOOv9NZ",
        "outputId": "21275415-d175-4b11-f29a-e8d33464723c"
      },
      "execution_count": 17,
      "outputs": [
        {
          "output_type": "execute_result",
          "data": {
            "text/plain": [
              "(8950, 17)"
            ]
          },
          "metadata": {},
          "execution_count": 17
        }
      ]
    },
    {
      "cell_type": "markdown",
      "source": [
        "# Step 2 : Preprocessing The Data"
      ],
      "metadata": {
        "id": "6jrHpCEsw-On"
      }
    },
    {
      "cell_type": "code",
      "source": [
        "# Normalize the data\n",
        "scaler = StandardScaler()\n",
        "x_scaler = scaler.fit_transform(X)"
      ],
      "metadata": {
        "id": "Vq8_ULX8v_KV"
      },
      "execution_count": 18,
      "outputs": []
    },
    {
      "cell_type": "code",
      "source": [
        "x_scaler"
      ],
      "metadata": {
        "colab": {
          "base_uri": "https://localhost:8080/"
        },
        "id": "JVs_OLJNwbOo",
        "outputId": "b751de79-4023-431c-fb86-0a4eb343360c"
      },
      "execution_count": 19,
      "outputs": [
        {
          "output_type": "execute_result",
          "data": {
            "text/plain": [
              "array([[-0.73198937, -0.24943448, -0.42489974, ..., -0.3053336 ,\n",
              "        -0.52555097,  0.36067954],\n",
              "       [ 0.78696085,  0.13432467, -0.46955188, ...,  0.08714014,\n",
              "         0.2342269 ,  0.36067954],\n",
              "       [ 0.44713513,  0.51808382, -0.10766823, ..., -0.10010994,\n",
              "        -0.52555097,  0.36067954],\n",
              "       ...,\n",
              "       [-0.7403981 , -0.18547673, -0.40196519, ..., -0.32935392,\n",
              "         0.32919999, -4.12276757],\n",
              "       [-0.74517423, -0.18547673, -0.46955188, ..., -0.34057185,\n",
              "         0.32919999, -4.12276757],\n",
              "       [-0.57257511, -0.88903307,  0.04214581, ..., -0.32688396,\n",
              "        -0.52555097, -4.12276757]])"
            ]
          },
          "metadata": {},
          "execution_count": 19
        }
      ]
    },
    {
      "cell_type": "code",
      "source": [
        "x_normal = normalize(x_scaler)"
      ],
      "metadata": {
        "id": "hCmP_rMGwd33"
      },
      "execution_count": 21,
      "outputs": []
    },
    {
      "cell_type": "code",
      "source": [
        "x_normal"
      ],
      "metadata": {
        "colab": {
          "base_uri": "https://localhost:8080/"
        },
        "id": "gANSoJXzwrrP",
        "outputId": "5103c4b0-e6f0-4898-90d6-c4d9b31a4315"
      },
      "execution_count": 22,
      "outputs": [
        {
          "output_type": "execute_result",
          "data": {
            "text/plain": [
              "array([[-0.31203754, -0.10633067, -0.18112923, ..., -0.13015974,\n",
              "        -0.22403554,  0.153753  ],\n",
              "       [ 0.21992844,  0.03753912, -0.13122357, ...,  0.02435267,\n",
              "         0.06545835,  0.1007975 ],\n",
              "       [ 0.1266835 ,  0.14678487, -0.03050485, ..., -0.02836341,\n",
              "        -0.14890049,  0.10218868],\n",
              "       ...,\n",
              "       [-0.15698874, -0.03932717, -0.08522984, ..., -0.06983386,\n",
              "         0.06980122, -0.8741623 ],\n",
              "       [-0.15433414, -0.03841436, -0.09724958, ..., -0.07053634,\n",
              "         0.0681811 , -0.85387249],\n",
              "       [-0.11521665, -0.17889603,  0.00848081, ..., -0.06577735,\n",
              "        -0.1057542 , -0.82960552]])"
            ]
          },
          "metadata": {},
          "execution_count": 22
        }
      ]
    },
    {
      "cell_type": "code",
      "source": [
        "x_normalized = pd.DataFrame(x_normal)"
      ],
      "metadata": {
        "id": "yPlp3NmFw4rl"
      },
      "execution_count": 23,
      "outputs": []
    },
    {
      "cell_type": "code",
      "source": [
        "x_normalized"
      ],
      "metadata": {
        "colab": {
          "base_uri": "https://localhost:8080/",
          "height": 488
        },
        "id": "pbHUx-ttxqA3",
        "outputId": "7fce8cf9-c1d7-4d88-e665-b8ad21c1d2d7"
      },
      "execution_count": 24,
      "outputs": [
        {
          "output_type": "execute_result",
          "data": {
            "text/plain": [
              "            0         1         2         3         4         5         6   \\\n",
              "0    -0.312038 -0.106331 -0.181129 -0.152156 -0.148808 -0.198985 -0.343796   \n",
              "1     0.219928  0.037539 -0.131224 -0.099751 -0.127038  0.728177 -0.341439   \n",
              "2     0.126684  0.146785 -0.030505  0.030851 -0.128792 -0.132251  0.359775   \n",
              "3     0.020571 -0.426063  0.097223  0.228832 -0.190449 -0.154451 -0.424878   \n",
              "4    -0.151630  0.218959 -0.195282 -0.146778 -0.192118 -0.197278 -0.428601   \n",
              "...        ...       ...       ...       ...       ...       ...       ...   \n",
              "8945 -0.146906  0.103137 -0.066350 -0.071056 -0.026406 -0.092925  0.252792   \n",
              "8946 -0.151150  0.105477 -0.067009 -0.072668 -0.025006 -0.095033  0.258527   \n",
              "8947 -0.156989 -0.039327 -0.085230 -0.075682 -0.062527 -0.098974  0.181198   \n",
              "8948 -0.154334 -0.038414 -0.097250 -0.073925 -0.094148 -0.093066 -0.253040   \n",
              "8949 -0.115217 -0.178896  0.008481  0.060716 -0.091472 -0.081739  0.088400   \n",
              "\n",
              "            7         8         9         10        11        12        13  \\\n",
              "0    -0.289304 -0.301518 -0.287892 -0.202942 -0.217975 -0.409413 -0.225497   \n",
              "1    -0.189662 -0.256269  0.160403  0.030762 -0.165387  0.192455  0.228782   \n",
              "2     0.757449 -0.259805 -0.191342 -0.134881 -0.030888  0.234046 -0.108741   \n",
              "3    -0.167299 -0.384185 -0.108474 -0.138062 -0.231084  0.346093 -0.250827   \n",
              "4    -0.168765 -0.387551 -0.285424 -0.201202 -0.233109 -0.382671 -0.153993   \n",
              "...        ...       ...       ...       ...       ...       ...       ...   \n",
              "8945 -0.135103  0.234873 -0.134444 -0.094773 -0.069757 -0.191193 -0.096793   \n",
              "8946 -0.138169  0.240202 -0.137494 -0.096923 -0.071340 -0.195531 -0.102486   \n",
              "8947 -0.143898  0.161244 -0.143196 -0.100942 -0.082828 -0.203640 -0.120989   \n",
              "8948 -0.140558 -0.189920  0.032626 -0.037901 -0.122568 -0.227375 -0.120236   \n",
              "8949  0.313123 -0.184523  0.199293 -0.036824  0.067114 -0.182199 -0.116081   \n",
              "\n",
              "            14        15        16  \n",
              "0    -0.130160 -0.224036  0.153753  \n",
              "1     0.024353  0.065458  0.100798  \n",
              "2    -0.028363 -0.148900  0.102189  \n",
              "3    -0.041942 -0.220185  0.151110  \n",
              "4    -0.110323 -0.222114  0.152435  \n",
              "...        ...       ...       ...  \n",
              "8945 -0.068374  0.235693 -0.820733  \n",
              "8946 -0.069925 -0.106997 -0.839354  \n",
              "8947 -0.069834  0.069801 -0.874162  \n",
              "8948 -0.070536  0.068181 -0.853872  \n",
              "8949 -0.065777 -0.105754 -0.829606  \n",
              "\n",
              "[8950 rows x 17 columns]"
            ],
            "text/html": [
              "\n",
              "  <div id=\"df-137ce1b3-f12e-4708-a71a-1527558b79fe\">\n",
              "    <div class=\"colab-df-container\">\n",
              "      <div>\n",
              "<style scoped>\n",
              "    .dataframe tbody tr th:only-of-type {\n",
              "        vertical-align: middle;\n",
              "    }\n",
              "\n",
              "    .dataframe tbody tr th {\n",
              "        vertical-align: top;\n",
              "    }\n",
              "\n",
              "    .dataframe thead th {\n",
              "        text-align: right;\n",
              "    }\n",
              "</style>\n",
              "<table border=\"1\" class=\"dataframe\">\n",
              "  <thead>\n",
              "    <tr style=\"text-align: right;\">\n",
              "      <th></th>\n",
              "      <th>0</th>\n",
              "      <th>1</th>\n",
              "      <th>2</th>\n",
              "      <th>3</th>\n",
              "      <th>4</th>\n",
              "      <th>5</th>\n",
              "      <th>6</th>\n",
              "      <th>7</th>\n",
              "      <th>8</th>\n",
              "      <th>9</th>\n",
              "      <th>10</th>\n",
              "      <th>11</th>\n",
              "      <th>12</th>\n",
              "      <th>13</th>\n",
              "      <th>14</th>\n",
              "      <th>15</th>\n",
              "      <th>16</th>\n",
              "    </tr>\n",
              "  </thead>\n",
              "  <tbody>\n",
              "    <tr>\n",
              "      <th>0</th>\n",
              "      <td>-0.312038</td>\n",
              "      <td>-0.106331</td>\n",
              "      <td>-0.181129</td>\n",
              "      <td>-0.152156</td>\n",
              "      <td>-0.148808</td>\n",
              "      <td>-0.198985</td>\n",
              "      <td>-0.343796</td>\n",
              "      <td>-0.289304</td>\n",
              "      <td>-0.301518</td>\n",
              "      <td>-0.287892</td>\n",
              "      <td>-0.202942</td>\n",
              "      <td>-0.217975</td>\n",
              "      <td>-0.409413</td>\n",
              "      <td>-0.225497</td>\n",
              "      <td>-0.130160</td>\n",
              "      <td>-0.224036</td>\n",
              "      <td>0.153753</td>\n",
              "    </tr>\n",
              "    <tr>\n",
              "      <th>1</th>\n",
              "      <td>0.219928</td>\n",
              "      <td>0.037539</td>\n",
              "      <td>-0.131224</td>\n",
              "      <td>-0.099751</td>\n",
              "      <td>-0.127038</td>\n",
              "      <td>0.728177</td>\n",
              "      <td>-0.341439</td>\n",
              "      <td>-0.189662</td>\n",
              "      <td>-0.256269</td>\n",
              "      <td>0.160403</td>\n",
              "      <td>0.030762</td>\n",
              "      <td>-0.165387</td>\n",
              "      <td>0.192455</td>\n",
              "      <td>0.228782</td>\n",
              "      <td>0.024353</td>\n",
              "      <td>0.065458</td>\n",
              "      <td>0.100798</td>\n",
              "    </tr>\n",
              "    <tr>\n",
              "      <th>2</th>\n",
              "      <td>0.126684</td>\n",
              "      <td>0.146785</td>\n",
              "      <td>-0.030505</td>\n",
              "      <td>0.030851</td>\n",
              "      <td>-0.128792</td>\n",
              "      <td>-0.132251</td>\n",
              "      <td>0.359775</td>\n",
              "      <td>0.757449</td>\n",
              "      <td>-0.259805</td>\n",
              "      <td>-0.191342</td>\n",
              "      <td>-0.134881</td>\n",
              "      <td>-0.030888</td>\n",
              "      <td>0.234046</td>\n",
              "      <td>-0.108741</td>\n",
              "      <td>-0.028363</td>\n",
              "      <td>-0.148900</td>\n",
              "      <td>0.102189</td>\n",
              "    </tr>\n",
              "    <tr>\n",
              "      <th>3</th>\n",
              "      <td>0.020571</td>\n",
              "      <td>-0.426063</td>\n",
              "      <td>0.097223</td>\n",
              "      <td>0.228832</td>\n",
              "      <td>-0.190449</td>\n",
              "      <td>-0.154451</td>\n",
              "      <td>-0.424878</td>\n",
              "      <td>-0.167299</td>\n",
              "      <td>-0.384185</td>\n",
              "      <td>-0.108474</td>\n",
              "      <td>-0.138062</td>\n",
              "      <td>-0.231084</td>\n",
              "      <td>0.346093</td>\n",
              "      <td>-0.250827</td>\n",
              "      <td>-0.041942</td>\n",
              "      <td>-0.220185</td>\n",
              "      <td>0.151110</td>\n",
              "    </tr>\n",
              "    <tr>\n",
              "      <th>4</th>\n",
              "      <td>-0.151630</td>\n",
              "      <td>0.218959</td>\n",
              "      <td>-0.195282</td>\n",
              "      <td>-0.146778</td>\n",
              "      <td>-0.192118</td>\n",
              "      <td>-0.197278</td>\n",
              "      <td>-0.428601</td>\n",
              "      <td>-0.168765</td>\n",
              "      <td>-0.387551</td>\n",
              "      <td>-0.285424</td>\n",
              "      <td>-0.201202</td>\n",
              "      <td>-0.233109</td>\n",
              "      <td>-0.382671</td>\n",
              "      <td>-0.153993</td>\n",
              "      <td>-0.110323</td>\n",
              "      <td>-0.222114</td>\n",
              "      <td>0.152435</td>\n",
              "    </tr>\n",
              "    <tr>\n",
              "      <th>...</th>\n",
              "      <td>...</td>\n",
              "      <td>...</td>\n",
              "      <td>...</td>\n",
              "      <td>...</td>\n",
              "      <td>...</td>\n",
              "      <td>...</td>\n",
              "      <td>...</td>\n",
              "      <td>...</td>\n",
              "      <td>...</td>\n",
              "      <td>...</td>\n",
              "      <td>...</td>\n",
              "      <td>...</td>\n",
              "      <td>...</td>\n",
              "      <td>...</td>\n",
              "      <td>...</td>\n",
              "      <td>...</td>\n",
              "      <td>...</td>\n",
              "    </tr>\n",
              "    <tr>\n",
              "      <th>8945</th>\n",
              "      <td>-0.146906</td>\n",
              "      <td>0.103137</td>\n",
              "      <td>-0.066350</td>\n",
              "      <td>-0.071056</td>\n",
              "      <td>-0.026406</td>\n",
              "      <td>-0.092925</td>\n",
              "      <td>0.252792</td>\n",
              "      <td>-0.135103</td>\n",
              "      <td>0.234873</td>\n",
              "      <td>-0.134444</td>\n",
              "      <td>-0.094773</td>\n",
              "      <td>-0.069757</td>\n",
              "      <td>-0.191193</td>\n",
              "      <td>-0.096793</td>\n",
              "      <td>-0.068374</td>\n",
              "      <td>0.235693</td>\n",
              "      <td>-0.820733</td>\n",
              "    </tr>\n",
              "    <tr>\n",
              "      <th>8946</th>\n",
              "      <td>-0.151150</td>\n",
              "      <td>0.105477</td>\n",
              "      <td>-0.067009</td>\n",
              "      <td>-0.072668</td>\n",
              "      <td>-0.025006</td>\n",
              "      <td>-0.095033</td>\n",
              "      <td>0.258527</td>\n",
              "      <td>-0.138169</td>\n",
              "      <td>0.240202</td>\n",
              "      <td>-0.137494</td>\n",
              "      <td>-0.096923</td>\n",
              "      <td>-0.071340</td>\n",
              "      <td>-0.195531</td>\n",
              "      <td>-0.102486</td>\n",
              "      <td>-0.069925</td>\n",
              "      <td>-0.106997</td>\n",
              "      <td>-0.839354</td>\n",
              "    </tr>\n",
              "    <tr>\n",
              "      <th>8947</th>\n",
              "      <td>-0.156989</td>\n",
              "      <td>-0.039327</td>\n",
              "      <td>-0.085230</td>\n",
              "      <td>-0.075682</td>\n",
              "      <td>-0.062527</td>\n",
              "      <td>-0.098974</td>\n",
              "      <td>0.181198</td>\n",
              "      <td>-0.143898</td>\n",
              "      <td>0.161244</td>\n",
              "      <td>-0.143196</td>\n",
              "      <td>-0.100942</td>\n",
              "      <td>-0.082828</td>\n",
              "      <td>-0.203640</td>\n",
              "      <td>-0.120989</td>\n",
              "      <td>-0.069834</td>\n",
              "      <td>0.069801</td>\n",
              "      <td>-0.874162</td>\n",
              "    </tr>\n",
              "    <tr>\n",
              "      <th>8948</th>\n",
              "      <td>-0.154334</td>\n",
              "      <td>-0.038414</td>\n",
              "      <td>-0.097250</td>\n",
              "      <td>-0.073925</td>\n",
              "      <td>-0.094148</td>\n",
              "      <td>-0.093066</td>\n",
              "      <td>-0.253040</td>\n",
              "      <td>-0.140558</td>\n",
              "      <td>-0.189920</td>\n",
              "      <td>0.032626</td>\n",
              "      <td>-0.037901</td>\n",
              "      <td>-0.122568</td>\n",
              "      <td>-0.227375</td>\n",
              "      <td>-0.120236</td>\n",
              "      <td>-0.070536</td>\n",
              "      <td>0.068181</td>\n",
              "      <td>-0.853872</td>\n",
              "    </tr>\n",
              "    <tr>\n",
              "      <th>8949</th>\n",
              "      <td>-0.115217</td>\n",
              "      <td>-0.178896</td>\n",
              "      <td>0.008481</td>\n",
              "      <td>0.060716</td>\n",
              "      <td>-0.091472</td>\n",
              "      <td>-0.081739</td>\n",
              "      <td>0.088400</td>\n",
              "      <td>0.313123</td>\n",
              "      <td>-0.184523</td>\n",
              "      <td>0.199293</td>\n",
              "      <td>-0.036824</td>\n",
              "      <td>0.067114</td>\n",
              "      <td>-0.182199</td>\n",
              "      <td>-0.116081</td>\n",
              "      <td>-0.065777</td>\n",
              "      <td>-0.105754</td>\n",
              "      <td>-0.829606</td>\n",
              "    </tr>\n",
              "  </tbody>\n",
              "</table>\n",
              "<p>8950 rows × 17 columns</p>\n",
              "</div>\n",
              "      <button class=\"colab-df-convert\" onclick=\"convertToInteractive('df-137ce1b3-f12e-4708-a71a-1527558b79fe')\"\n",
              "              title=\"Convert this dataframe to an interactive table.\"\n",
              "              style=\"display:none;\">\n",
              "        \n",
              "  <svg xmlns=\"http://www.w3.org/2000/svg\" height=\"24px\"viewBox=\"0 0 24 24\"\n",
              "       width=\"24px\">\n",
              "    <path d=\"M0 0h24v24H0V0z\" fill=\"none\"/>\n",
              "    <path d=\"M18.56 5.44l.94 2.06.94-2.06 2.06-.94-2.06-.94-.94-2.06-.94 2.06-2.06.94zm-11 1L8.5 8.5l.94-2.06 2.06-.94-2.06-.94L8.5 2.5l-.94 2.06-2.06.94zm10 10l.94 2.06.94-2.06 2.06-.94-2.06-.94-.94-2.06-.94 2.06-2.06.94z\"/><path d=\"M17.41 7.96l-1.37-1.37c-.4-.4-.92-.59-1.43-.59-.52 0-1.04.2-1.43.59L10.3 9.45l-7.72 7.72c-.78.78-.78 2.05 0 2.83L4 21.41c.39.39.9.59 1.41.59.51 0 1.02-.2 1.41-.59l7.78-7.78 2.81-2.81c.8-.78.8-2.07 0-2.86zM5.41 20L4 18.59l7.72-7.72 1.47 1.35L5.41 20z\"/>\n",
              "  </svg>\n",
              "      </button>\n",
              "      \n",
              "  <style>\n",
              "    .colab-df-container {\n",
              "      display:flex;\n",
              "      flex-wrap:wrap;\n",
              "      gap: 12px;\n",
              "    }\n",
              "\n",
              "    .colab-df-convert {\n",
              "      background-color: #E8F0FE;\n",
              "      border: none;\n",
              "      border-radius: 50%;\n",
              "      cursor: pointer;\n",
              "      display: none;\n",
              "      fill: #1967D2;\n",
              "      height: 32px;\n",
              "      padding: 0 0 0 0;\n",
              "      width: 32px;\n",
              "    }\n",
              "\n",
              "    .colab-df-convert:hover {\n",
              "      background-color: #E2EBFA;\n",
              "      box-shadow: 0px 1px 2px rgba(60, 64, 67, 0.3), 0px 1px 3px 1px rgba(60, 64, 67, 0.15);\n",
              "      fill: #174EA6;\n",
              "    }\n",
              "\n",
              "    [theme=dark] .colab-df-convert {\n",
              "      background-color: #3B4455;\n",
              "      fill: #D2E3FC;\n",
              "    }\n",
              "\n",
              "    [theme=dark] .colab-df-convert:hover {\n",
              "      background-color: #434B5C;\n",
              "      box-shadow: 0px 1px 3px 1px rgba(0, 0, 0, 0.15);\n",
              "      filter: drop-shadow(0px 1px 2px rgba(0, 0, 0, 0.3));\n",
              "      fill: #FFFFFF;\n",
              "    }\n",
              "  </style>\n",
              "\n",
              "      <script>\n",
              "        const buttonEl =\n",
              "          document.querySelector('#df-137ce1b3-f12e-4708-a71a-1527558b79fe button.colab-df-convert');\n",
              "        buttonEl.style.display =\n",
              "          google.colab.kernel.accessAllowed ? 'block' : 'none';\n",
              "\n",
              "        async function convertToInteractive(key) {\n",
              "          const element = document.querySelector('#df-137ce1b3-f12e-4708-a71a-1527558b79fe');\n",
              "          const dataTable =\n",
              "            await google.colab.kernel.invokeFunction('convertToInteractive',\n",
              "                                                     [key], {});\n",
              "          if (!dataTable) return;\n",
              "\n",
              "          const docLinkHtml = 'Like what you see? Visit the ' +\n",
              "            '<a target=\"_blank\" href=https://colab.research.google.com/notebooks/data_table.ipynb>data table notebook</a>'\n",
              "            + ' to learn more about interactive tables.';\n",
              "          element.innerHTML = '';\n",
              "          dataTable['output_type'] = 'display_data';\n",
              "          await google.colab.output.renderOutput(dataTable, element);\n",
              "          const docLink = document.createElement('div');\n",
              "          docLink.innerHTML = docLinkHtml;\n",
              "          element.appendChild(docLink);\n",
              "        }\n",
              "      </script>\n",
              "    </div>\n",
              "  </div>\n",
              "  "
            ]
          },
          "metadata": {},
          "execution_count": 24
        }
      ]
    },
    {
      "cell_type": "code",
      "source": [
        "x_normalized.shape"
      ],
      "metadata": {
        "colab": {
          "base_uri": "https://localhost:8080/"
        },
        "id": "O4RhqYxdxsi7",
        "outputId": "9aa973fa-cf56-4d85-d9b0-cce3c4fe7645"
      },
      "execution_count": 25,
      "outputs": [
        {
          "output_type": "execute_result",
          "data": {
            "text/plain": [
              "(8950, 17)"
            ]
          },
          "metadata": {},
          "execution_count": 25
        }
      ]
    },
    {
      "cell_type": "markdown",
      "source": [
        "# Step 4: Reducing the dimensionality of the data to make it visualisable."
      ],
      "metadata": {
        "id": "6DshKfQTx-W1"
      }
    },
    {
      "cell_type": "code",
      "source": [
        "pca = PCA(n_components=2)\n",
        "X_principle = pca.fit_transform(x_normalized)\n",
        "X_principle = pd.DataFrame(X_principle,columns=[\"P1\",\"P2\"])\n",
        "X_principle.head()"
      ],
      "metadata": {
        "colab": {
          "base_uri": "https://localhost:8080/",
          "height": 206
        },
        "id": "fcT5IlGExw2T",
        "outputId": "68d0bd00-9609-4703-bd46-59e7eea346ab"
      },
      "execution_count": 26,
      "outputs": [
        {
          "output_type": "execute_result",
          "data": {
            "text/plain": [
              "         P1        P2\n",
              "0 -0.489949 -0.679977\n",
              "1 -0.519099  0.544825\n",
              "2  0.330634  0.268883\n",
              "3 -0.481657 -0.097612\n",
              "4 -0.563512 -0.482505"
            ],
            "text/html": [
              "\n",
              "  <div id=\"df-d3b3f9f0-6395-4659-8ba9-96a70cad1d5e\">\n",
              "    <div class=\"colab-df-container\">\n",
              "      <div>\n",
              "<style scoped>\n",
              "    .dataframe tbody tr th:only-of-type {\n",
              "        vertical-align: middle;\n",
              "    }\n",
              "\n",
              "    .dataframe tbody tr th {\n",
              "        vertical-align: top;\n",
              "    }\n",
              "\n",
              "    .dataframe thead th {\n",
              "        text-align: right;\n",
              "    }\n",
              "</style>\n",
              "<table border=\"1\" class=\"dataframe\">\n",
              "  <thead>\n",
              "    <tr style=\"text-align: right;\">\n",
              "      <th></th>\n",
              "      <th>P1</th>\n",
              "      <th>P2</th>\n",
              "    </tr>\n",
              "  </thead>\n",
              "  <tbody>\n",
              "    <tr>\n",
              "      <th>0</th>\n",
              "      <td>-0.489949</td>\n",
              "      <td>-0.679977</td>\n",
              "    </tr>\n",
              "    <tr>\n",
              "      <th>1</th>\n",
              "      <td>-0.519099</td>\n",
              "      <td>0.544825</td>\n",
              "    </tr>\n",
              "    <tr>\n",
              "      <th>2</th>\n",
              "      <td>0.330634</td>\n",
              "      <td>0.268883</td>\n",
              "    </tr>\n",
              "    <tr>\n",
              "      <th>3</th>\n",
              "      <td>-0.481657</td>\n",
              "      <td>-0.097612</td>\n",
              "    </tr>\n",
              "    <tr>\n",
              "      <th>4</th>\n",
              "      <td>-0.563512</td>\n",
              "      <td>-0.482505</td>\n",
              "    </tr>\n",
              "  </tbody>\n",
              "</table>\n",
              "</div>\n",
              "      <button class=\"colab-df-convert\" onclick=\"convertToInteractive('df-d3b3f9f0-6395-4659-8ba9-96a70cad1d5e')\"\n",
              "              title=\"Convert this dataframe to an interactive table.\"\n",
              "              style=\"display:none;\">\n",
              "        \n",
              "  <svg xmlns=\"http://www.w3.org/2000/svg\" height=\"24px\"viewBox=\"0 0 24 24\"\n",
              "       width=\"24px\">\n",
              "    <path d=\"M0 0h24v24H0V0z\" fill=\"none\"/>\n",
              "    <path d=\"M18.56 5.44l.94 2.06.94-2.06 2.06-.94-2.06-.94-.94-2.06-.94 2.06-2.06.94zm-11 1L8.5 8.5l.94-2.06 2.06-.94-2.06-.94L8.5 2.5l-.94 2.06-2.06.94zm10 10l.94 2.06.94-2.06 2.06-.94-2.06-.94-.94-2.06-.94 2.06-2.06.94z\"/><path d=\"M17.41 7.96l-1.37-1.37c-.4-.4-.92-.59-1.43-.59-.52 0-1.04.2-1.43.59L10.3 9.45l-7.72 7.72c-.78.78-.78 2.05 0 2.83L4 21.41c.39.39.9.59 1.41.59.51 0 1.02-.2 1.41-.59l7.78-7.78 2.81-2.81c.8-.78.8-2.07 0-2.86zM5.41 20L4 18.59l7.72-7.72 1.47 1.35L5.41 20z\"/>\n",
              "  </svg>\n",
              "      </button>\n",
              "      \n",
              "  <style>\n",
              "    .colab-df-container {\n",
              "      display:flex;\n",
              "      flex-wrap:wrap;\n",
              "      gap: 12px;\n",
              "    }\n",
              "\n",
              "    .colab-df-convert {\n",
              "      background-color: #E8F0FE;\n",
              "      border: none;\n",
              "      border-radius: 50%;\n",
              "      cursor: pointer;\n",
              "      display: none;\n",
              "      fill: #1967D2;\n",
              "      height: 32px;\n",
              "      padding: 0 0 0 0;\n",
              "      width: 32px;\n",
              "    }\n",
              "\n",
              "    .colab-df-convert:hover {\n",
              "      background-color: #E2EBFA;\n",
              "      box-shadow: 0px 1px 2px rgba(60, 64, 67, 0.3), 0px 1px 3px 1px rgba(60, 64, 67, 0.15);\n",
              "      fill: #174EA6;\n",
              "    }\n",
              "\n",
              "    [theme=dark] .colab-df-convert {\n",
              "      background-color: #3B4455;\n",
              "      fill: #D2E3FC;\n",
              "    }\n",
              "\n",
              "    [theme=dark] .colab-df-convert:hover {\n",
              "      background-color: #434B5C;\n",
              "      box-shadow: 0px 1px 3px 1px rgba(0, 0, 0, 0.15);\n",
              "      filter: drop-shadow(0px 1px 2px rgba(0, 0, 0, 0.3));\n",
              "      fill: #FFFFFF;\n",
              "    }\n",
              "  </style>\n",
              "\n",
              "      <script>\n",
              "        const buttonEl =\n",
              "          document.querySelector('#df-d3b3f9f0-6395-4659-8ba9-96a70cad1d5e button.colab-df-convert');\n",
              "        buttonEl.style.display =\n",
              "          google.colab.kernel.accessAllowed ? 'block' : 'none';\n",
              "\n",
              "        async function convertToInteractive(key) {\n",
              "          const element = document.querySelector('#df-d3b3f9f0-6395-4659-8ba9-96a70cad1d5e');\n",
              "          const dataTable =\n",
              "            await google.colab.kernel.invokeFunction('convertToInteractive',\n",
              "                                                     [key], {});\n",
              "          if (!dataTable) return;\n",
              "\n",
              "          const docLinkHtml = 'Like what you see? Visit the ' +\n",
              "            '<a target=\"_blank\" href=https://colab.research.google.com/notebooks/data_table.ipynb>data table notebook</a>'\n",
              "            + ' to learn more about interactive tables.';\n",
              "          element.innerHTML = '';\n",
              "          dataTable['output_type'] = 'display_data';\n",
              "          await google.colab.output.renderOutput(dataTable, element);\n",
              "          const docLink = document.createElement('div');\n",
              "          docLink.innerHTML = docLinkHtml;\n",
              "          element.appendChild(docLink);\n",
              "        }\n",
              "      </script>\n",
              "    </div>\n",
              "  </div>\n",
              "  "
            ]
          },
          "metadata": {},
          "execution_count": 26
        }
      ]
    },
    {
      "cell_type": "markdown",
      "source": [
        "# Step 5: Building The Clustering Model"
      ],
      "metadata": {
        "id": "e1TGtg0FzPHQ"
      }
    },
    {
      "cell_type": "code",
      "source": [
        "model = DBSCAN(eps=0.0375, min_samples=3).fit(X_principle)"
      ],
      "metadata": {
        "id": "E2qmdrERy9XD"
      },
      "execution_count": 28,
      "outputs": []
    },
    {
      "cell_type": "code",
      "source": [
        "labels = model.labels_"
      ],
      "metadata": {
        "id": "oV4Eh10V0BYf"
      },
      "execution_count": 33,
      "outputs": []
    },
    {
      "cell_type": "code",
      "source": [
        "labels"
      ],
      "metadata": {
        "colab": {
          "base_uri": "https://localhost:8080/"
        },
        "id": "m8qsvz6d0LnK",
        "outputId": "04d23553-2aef-4fdc-88a8-9af64cff6699"
      },
      "execution_count": 34,
      "outputs": [
        {
          "output_type": "execute_result",
          "data": {
            "text/plain": [
              "array([0, 0, 0, ..., 0, 0, 0])"
            ]
          },
          "metadata": {},
          "execution_count": 34
        }
      ]
    },
    {
      "cell_type": "markdown",
      "source": [
        "# Step 6: Visualizing The Clustering"
      ],
      "metadata": {
        "id": "fj5ua2vE0ZZc"
      }
    },
    {
      "cell_type": "code",
      "source": [
        "#Building the label to color mapping\n",
        "\n",
        "color = {}\n",
        "color[0] = \"r\"\n",
        "color[1] = \"g\"\n",
        "color[2] = \"b\"\n",
        "color[-1] = \"k\"\n",
        "\n",
        "#Building the color vector for each data point\n",
        "cvec = [color[label] for label in labels]\n",
        "\n",
        "#For The Construction of the legend of the plot\n",
        "r = plt.scatter(X_principle['P1'], X_principle['P2'], color = \"r\")\n",
        "g = plt.scatter(X_principle['P1'], X_principle['P2'], color = \"g\")\n",
        "b = plt.scatter(X_principle['P1'], X_principle['P2'], color = \"b\")\n",
        "k = plt.scatter(X_principle['P1'], X_principle['P2'], color = \"k\")\n",
        "\n",
        "#Ploting  P1 on the  x-axis and P2 on the y-axis\n",
        "#According to the color vector defind\n",
        "plt.figure(figsize=(9,9))\n",
        "plt.scatter(X_principle[\"P1\"], X_principle[\"P2\"], c = cvec)\n",
        "\n",
        "#Building the legend\n",
        "plt.legend((r,g,b,k), (\"Label 0\", \"Label 1\", \"Label 2\", \"Label -1\"))\n",
        "plt.show"
      ],
      "metadata": {
        "colab": {
          "base_uri": "https://localhost:8080/",
          "height": 802
        },
        "id": "tY2yWaMp0MoI",
        "outputId": "5175e7b5-2b28-486a-db92-9efbe66b4e96"
      },
      "execution_count": 36,
      "outputs": [
        {
          "output_type": "execute_result",
          "data": {
            "text/plain": [
              "<function matplotlib.pyplot.show(*args, **kw)>"
            ]
          },
          "metadata": {},
          "execution_count": 36
        },
        {
          "output_type": "display_data",
          "data": {
            "text/plain": [
              "<Figure size 432x288 with 1 Axes>"
            ],
            "image/png": "[encoded data removed]"
          },
          "metadata": {
            "needs_background": "light"
          }
        },
        {
          "output_type": "display_data",
          "data": {
            "text/plain": [
              "<Figure size 648x648 with 1 Axes>"
            ],
            "image/png": "[encoded data removed]"
          },
          "metadata": {
            "needs_background": "light"
          }
        }
      ]
    },
    {
      "cell_type": "code",
      "source": [],
      "metadata": {
        "id": "Nzm2tDvG21S6"
      },
      "execution_count": null,
      "outputs": []
    }
  ]
}