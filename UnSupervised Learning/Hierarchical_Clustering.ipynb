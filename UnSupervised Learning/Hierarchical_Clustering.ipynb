{
  "nbformat": 4,
  "nbformat_minor": 0,
  "metadata": {
    "colab": {
      "provenance": []
    },
    "kernelspec": {
      "name": "python3",
      "display_name": "Python 3"
    },
    "language_info": {
      "name": "python"
    }
  },
  "cells": [
    {
      "cell_type": "code",
      "execution_count": 1,
      "metadata": {
        "id": "lyGIKrxwqaCQ"
      },
      "outputs": [],
      "source": [
        "import numpy as np\n",
        "import pandas as pd"
      ]
    },
    {
      "cell_type": "code",
      "source": [
        "df = pd.read_csv(\"/content/Mall_Customers.csv\")\n",
        "df.head()"
      ],
      "metadata": {
        "colab": {
          "base_uri": "https://localhost:8080/",
          "height": 206
        },
        "id": "sDY8aP12tSU7",
        "outputId": "b57d96c1-bdb7-4d7e-e959-690a37c0f5fa"
      },
      "execution_count": 2,
      "outputs": [
        {
          "output_type": "execute_result",
          "data": {
            "text/plain": [
              "   CustomerID   Genre  Age  Annual Income (k$)  Spending Score (1-100)\n",
              "0           1    Male   19                  15                      39\n",
              "1           2    Male   21                  15                      81\n",
              "2           3  Female   20                  16                       6\n",
              "3           4  Female   23                  16                      77\n",
              "4           5  Female   31                  17                      40"
            ],
            "text/html": [
              "\n",
              "  <div id=\"df-8d5f2975-9db3-4a3c-b30e-a343b7eba8a1\">\n",
              "    <div class=\"colab-df-container\">\n",
              "      <div>\n",
              "<style scoped>\n",
              "    .dataframe tbody tr th:only-of-type {\n",
              "        vertical-align: middle;\n",
              "    }\n",
              "\n",
              "    .dataframe tbody tr th {\n",
              "        vertical-align: top;\n",
              "    }\n",
              "\n",
              "    .dataframe thead th {\n",
              "        text-align: right;\n",
              "    }\n",
              "</style>\n",
              "<table border=\"1\" class=\"dataframe\">\n",
              "  <thead>\n",
              "    <tr style=\"text-align: right;\">\n",
              "      <th></th>\n",
              "      <th>CustomerID</th>\n",
              "      <th>Genre</th>\n",
              "      <th>Age</th>\n",
              "      <th>Annual Income (k$)</th>\n",
              "      <th>Spending Score (1-100)</th>\n",
              "    </tr>\n",
              "  </thead>\n",
              "  <tbody>\n",
              "    <tr>\n",
              "      <th>0</th>\n",
              "      <td>1</td>\n",
              "      <td>Male</td>\n",
              "      <td>19</td>\n",
              "      <td>15</td>\n",
              "      <td>39</td>\n",
              "    </tr>\n",
              "    <tr>\n",
              "      <th>1</th>\n",
              "      <td>2</td>\n",
              "      <td>Male</td>\n",
              "      <td>21</td>\n",
              "      <td>15</td>\n",
              "      <td>81</td>\n",
              "    </tr>\n",
              "    <tr>\n",
              "      <th>2</th>\n",
              "      <td>3</td>\n",
              "      <td>Female</td>\n",
              "      <td>20</td>\n",
              "      <td>16</td>\n",
              "      <td>6</td>\n",
              "    </tr>\n",
              "    <tr>\n",
              "      <th>3</th>\n",
              "      <td>4</td>\n",
              "      <td>Female</td>\n",
              "      <td>23</td>\n",
              "      <td>16</td>\n",
              "      <td>77</td>\n",
              "    </tr>\n",
              "    <tr>\n",
              "      <th>4</th>\n",
              "      <td>5</td>\n",
              "      <td>Female</td>\n",
              "      <td>31</td>\n",
              "      <td>17</td>\n",
              "      <td>40</td>\n",
              "    </tr>\n",
              "  </tbody>\n",
              "</table>\n",
              "</div>\n",
              "      <button class=\"colab-df-convert\" onclick=\"convertToInteractive('df-8d5f2975-9db3-4a3c-b30e-a343b7eba8a1')\"\n",
              "              title=\"Convert this dataframe to an interactive table.\"\n",
              "              style=\"display:none;\">\n",
              "        \n",
              "  <svg xmlns=\"http://www.w3.org/2000/svg\" height=\"24px\"viewBox=\"0 0 24 24\"\n",
              "       width=\"24px\">\n",
              "    <path d=\"M0 0h24v24H0V0z\" fill=\"none\"/>\n",
              "    <path d=\"M18.56 5.44l.94 2.06.94-2.06 2.06-.94-2.06-.94-.94-2.06-.94 2.06-2.06.94zm-11 1L8.5 8.5l.94-2.06 2.06-.94-2.06-.94L8.5 2.5l-.94 2.06-2.06.94zm10 10l.94 2.06.94-2.06 2.06-.94-2.06-.94-.94-2.06-.94 2.06-2.06.94z\"/><path d=\"M17.41 7.96l-1.37-1.37c-.4-.4-.92-.59-1.43-.59-.52 0-1.04.2-1.43.59L10.3 9.45l-7.72 7.72c-.78.78-.78 2.05 0 2.83L4 21.41c.39.39.9.59 1.41.59.51 0 1.02-.2 1.41-.59l7.78-7.78 2.81-2.81c.8-.78.8-2.07 0-2.86zM5.41 20L4 18.59l7.72-7.72 1.47 1.35L5.41 20z\"/>\n",
              "  </svg>\n",
              "      </button>\n",
              "      \n",
              "  <style>\n",
              "    .colab-df-container {\n",
              "      display:flex;\n",
              "      flex-wrap:wrap;\n",
              "      gap: 12px;\n",
              "    }\n",
              "\n",
              "    .colab-df-convert {\n",
              "      background-color: #E8F0FE;\n",
              "      border: none;\n",
              "      border-radius: 50%;\n",
              "      cursor: pointer;\n",
              "      display: none;\n",
              "      fill: #1967D2;\n",
              "      height: 32px;\n",
              "      padding: 0 0 0 0;\n",
              "      width: 32px;\n",
              "    }\n",
              "\n",
              "    .colab-df-convert:hover {\n",
              "      background-color: #E2EBFA;\n",
              "      box-shadow: 0px 1px 2px rgba(60, 64, 67, 0.3), 0px 1px 3px 1px rgba(60, 64, 67, 0.15);\n",
              "      fill: #174EA6;\n",
              "    }\n",
              "\n",
              "    [theme=dark] .colab-df-convert {\n",
              "      background-color: #3B4455;\n",
              "      fill: #D2E3FC;\n",
              "    }\n",
              "\n",
              "    [theme=dark] .colab-df-convert:hover {\n",
              "      background-color: #434B5C;\n",
              "      box-shadow: 0px 1px 3px 1px rgba(0, 0, 0, 0.15);\n",
              "      filter: drop-shadow(0px 1px 2px rgba(0, 0, 0, 0.3));\n",
              "      fill: #FFFFFF;\n",
              "    }\n",
              "  </style>\n",
              "\n",
              "      <script>\n",
              "        const buttonEl =\n",
              "          document.querySelector('#df-8d5f2975-9db3-4a3c-b30e-a343b7eba8a1 button.colab-df-convert');\n",
              "        buttonEl.style.display =\n",
              "          google.colab.kernel.accessAllowed ? 'block' : 'none';\n",
              "\n",
              "        async function convertToInteractive(key) {\n",
              "          const element = document.querySelector('#df-8d5f2975-9db3-4a3c-b30e-a343b7eba8a1');\n",
              "          const dataTable =\n",
              "            await google.colab.kernel.invokeFunction('convertToInteractive',\n",
              "                                                     [key], {});\n",
              "          if (!dataTable) return;\n",
              "\n",
              "          const docLinkHtml = 'Like what you see? Visit the ' +\n",
              "            '<a target=\"_blank\" href=https://colab.research.google.com/notebooks/data_table.ipynb>data table notebook</a>'\n",
              "            + ' to learn more about interactive tables.';\n",
              "          element.innerHTML = '';\n",
              "          dataTable['output_type'] = 'display_data';\n",
              "          await google.colab.output.renderOutput(dataTable, element);\n",
              "          const docLink = document.createElement('div');\n",
              "          docLink.innerHTML = docLinkHtml;\n",
              "          element.appendChild(docLink);\n",
              "        }\n",
              "      </script>\n",
              "    </div>\n",
              "  </div>\n",
              "  "
            ]
          },
          "metadata": {},
          "execution_count": 2
        }
      ]
    },
    {
      "cell_type": "code",
      "source": [
        "df.shape"
      ],
      "metadata": {
        "colab": {
          "base_uri": "https://localhost:8080/"
        },
        "id": "wh2CVHZ3tYgZ",
        "outputId": "35c114df-13ad-40b6-8e37-0cf90969038b"
      },
      "execution_count": 3,
      "outputs": [
        {
          "output_type": "execute_result",
          "data": {
            "text/plain": [
              "(200, 5)"
            ]
          },
          "metadata": {},
          "execution_count": 3
        }
      ]
    },
    {
      "cell_type": "code",
      "source": [
        "df.isnull().sum()"
      ],
      "metadata": {
        "colab": {
          "base_uri": "https://localhost:8080/"
        },
        "id": "zmdhlbuhtaHB",
        "outputId": "9a04fe22-9875-4e06-bbe1-bf591bd81f39"
      },
      "execution_count": 4,
      "outputs": [
        {
          "output_type": "execute_result",
          "data": {
            "text/plain": [
              "CustomerID                0\n",
              "Genre                     0\n",
              "Age                       0\n",
              "Annual Income (k$)        0\n",
              "Spending Score (1-100)    0\n",
              "dtype: int64"
            ]
          },
          "metadata": {},
          "execution_count": 4
        }
      ]
    },
    {
      "cell_type": "code",
      "source": [
        "df = df.iloc[:,[3,4]].values"
      ],
      "metadata": {
        "id": "UoaMlZbWtch4"
      },
      "execution_count": 5,
      "outputs": []
    },
    {
      "cell_type": "code",
      "source": [
        "df"
      ],
      "metadata": {
        "colab": {
          "base_uri": "https://localhost:8080/"
        },
        "id": "HGoIb7Cotj5j",
        "outputId": "1d47d3ca-303e-455e-84f9-4fe1e2504b37"
      },
      "execution_count": 7,
      "outputs": [
        {
          "output_type": "execute_result",
          "data": {
            "text/plain": [
              "array([[ 15,  39],\n",
              "       [ 15,  81],\n",
              "       [ 16,   6],\n",
              "       [ 16,  77],\n",
              "       [ 17,  40],\n",
              "       [ 17,  76],\n",
              "       [ 18,   6],\n",
              "       [ 18,  94],\n",
              "       [ 19,   3],\n",
              "       [ 19,  72],\n",
              "       [ 19,  14],\n",
              "       [ 19,  99],\n",
              "       [ 20,  15],\n",
              "       [ 20,  77],\n",
              "       [ 20,  13],\n",
              "       [ 20,  79],\n",
              "       [ 21,  35],\n",
              "       [ 21,  66],\n",
              "       [ 23,  29],\n",
              "       [ 23,  98],\n",
              "       [ 24,  35],\n",
              "       [ 24,  73],\n",
              "       [ 25,   5],\n",
              "       [ 25,  73],\n",
              "       [ 28,  14],\n",
              "       [ 28,  82],\n",
              "       [ 28,  32],\n",
              "       [ 28,  61],\n",
              "       [ 29,  31],\n",
              "       [ 29,  87],\n",
              "       [ 30,   4],\n",
              "       [ 30,  73],\n",
              "       [ 33,   4],\n",
              "       [ 33,  92],\n",
              "       [ 33,  14],\n",
              "       [ 33,  81],\n",
              "       [ 34,  17],\n",
              "       [ 34,  73],\n",
              "       [ 37,  26],\n",
              "       [ 37,  75],\n",
              "       [ 38,  35],\n",
              "       [ 38,  92],\n",
              "       [ 39,  36],\n",
              "       [ 39,  61],\n",
              "       [ 39,  28],\n",
              "       [ 39,  65],\n",
              "       [ 40,  55],\n",
              "       [ 40,  47],\n",
              "       [ 40,  42],\n",
              "       [ 40,  42],\n",
              "       [ 42,  52],\n",
              "       [ 42,  60],\n",
              "       [ 43,  54],\n",
              "       [ 43,  60],\n",
              "       [ 43,  45],\n",
              "       [ 43,  41],\n",
              "       [ 44,  50],\n",
              "       [ 44,  46],\n",
              "       [ 46,  51],\n",
              "       [ 46,  46],\n",
              "       [ 46,  56],\n",
              "       [ 46,  55],\n",
              "       [ 47,  52],\n",
              "       [ 47,  59],\n",
              "       [ 48,  51],\n",
              "       [ 48,  59],\n",
              "       [ 48,  50],\n",
              "       [ 48,  48],\n",
              "       [ 48,  59],\n",
              "       [ 48,  47],\n",
              "       [ 49,  55],\n",
              "       [ 49,  42],\n",
              "       [ 50,  49],\n",
              "       [ 50,  56],\n",
              "       [ 54,  47],\n",
              "       [ 54,  54],\n",
              "       [ 54,  53],\n",
              "       [ 54,  48],\n",
              "       [ 54,  52],\n",
              "       [ 54,  42],\n",
              "       [ 54,  51],\n",
              "       [ 54,  55],\n",
              "       [ 54,  41],\n",
              "       [ 54,  44],\n",
              "       [ 54,  57],\n",
              "       [ 54,  46],\n",
              "       [ 57,  58],\n",
              "       [ 57,  55],\n",
              "       [ 58,  60],\n",
              "       [ 58,  46],\n",
              "       [ 59,  55],\n",
              "       [ 59,  41],\n",
              "       [ 60,  49],\n",
              "       [ 60,  40],\n",
              "       [ 60,  42],\n",
              "       [ 60,  52],\n",
              "       [ 60,  47],\n",
              "       [ 60,  50],\n",
              "       [ 61,  42],\n",
              "       [ 61,  49],\n",
              "       [ 62,  41],\n",
              "       [ 62,  48],\n",
              "       [ 62,  59],\n",
              "       [ 62,  55],\n",
              "       [ 62,  56],\n",
              "       [ 62,  42],\n",
              "       [ 63,  50],\n",
              "       [ 63,  46],\n",
              "       [ 63,  43],\n",
              "       [ 63,  48],\n",
              "       [ 63,  52],\n",
              "       [ 63,  54],\n",
              "       [ 64,  42],\n",
              "       [ 64,  46],\n",
              "       [ 65,  48],\n",
              "       [ 65,  50],\n",
              "       [ 65,  43],\n",
              "       [ 65,  59],\n",
              "       [ 67,  43],\n",
              "       [ 67,  57],\n",
              "       [ 67,  56],\n",
              "       [ 67,  40],\n",
              "       [ 69,  58],\n",
              "       [ 69,  91],\n",
              "       [ 70,  29],\n",
              "       [ 70,  77],\n",
              "       [ 71,  35],\n",
              "       [ 71,  95],\n",
              "       [ 71,  11],\n",
              "       [ 71,  75],\n",
              "       [ 71,   9],\n",
              "       [ 71,  75],\n",
              "       [ 72,  34],\n",
              "       [ 72,  71],\n",
              "       [ 73,   5],\n",
              "       [ 73,  88],\n",
              "       [ 73,   7],\n",
              "       [ 73,  73],\n",
              "       [ 74,  10],\n",
              "       [ 74,  72],\n",
              "       [ 75,   5],\n",
              "       [ 75,  93],\n",
              "       [ 76,  40],\n",
              "       [ 76,  87],\n",
              "       [ 77,  12],\n",
              "       [ 77,  97],\n",
              "       [ 77,  36],\n",
              "       [ 77,  74],\n",
              "       [ 78,  22],\n",
              "       [ 78,  90],\n",
              "       [ 78,  17],\n",
              "       [ 78,  88],\n",
              "       [ 78,  20],\n",
              "       [ 78,  76],\n",
              "       [ 78,  16],\n",
              "       [ 78,  89],\n",
              "       [ 78,   1],\n",
              "       [ 78,  78],\n",
              "       [ 78,   1],\n",
              "       [ 78,  73],\n",
              "       [ 79,  35],\n",
              "       [ 79,  83],\n",
              "       [ 81,   5],\n",
              "       [ 81,  93],\n",
              "       [ 85,  26],\n",
              "       [ 85,  75],\n",
              "       [ 86,  20],\n",
              "       [ 86,  95],\n",
              "       [ 87,  27],\n",
              "       [ 87,  63],\n",
              "       [ 87,  13],\n",
              "       [ 87,  75],\n",
              "       [ 87,  10],\n",
              "       [ 87,  92],\n",
              "       [ 88,  13],\n",
              "       [ 88,  86],\n",
              "       [ 88,  15],\n",
              "       [ 88,  69],\n",
              "       [ 93,  14],\n",
              "       [ 93,  90],\n",
              "       [ 97,  32],\n",
              "       [ 97,  86],\n",
              "       [ 98,  15],\n",
              "       [ 98,  88],\n",
              "       [ 99,  39],\n",
              "       [ 99,  97],\n",
              "       [101,  24],\n",
              "       [101,  68],\n",
              "       [103,  17],\n",
              "       [103,  85],\n",
              "       [103,  23],\n",
              "       [103,  69],\n",
              "       [113,   8],\n",
              "       [113,  91],\n",
              "       [120,  16],\n",
              "       [120,  79],\n",
              "       [126,  28],\n",
              "       [126,  74],\n",
              "       [137,  18],\n",
              "       [137,  83]])"
            ]
          },
          "metadata": {},
          "execution_count": 7
        }
      ]
    },
    {
      "cell_type": "code",
      "source": [
        "df.shape"
      ],
      "metadata": {
        "colab": {
          "base_uri": "https://localhost:8080/"
        },
        "id": "KQ8Eodz5tleR",
        "outputId": "0741998a-c138-4a79-82cc-4cfbabf40298"
      },
      "execution_count": 8,
      "outputs": [
        {
          "output_type": "execute_result",
          "data": {
            "text/plain": [
              "(200, 2)"
            ]
          },
          "metadata": {},
          "execution_count": 8
        }
      ]
    },
    {
      "cell_type": "code",
      "source": [
        "import scipy.cluster.hierarchy as sch\n",
        "dendrogram = sch.dendrogram(sch.linkage(df, method=\"ward\"))\n",
        "plt.title(\"Dendrogram\")\n",
        "plt.xlable(\"Customer\")\n",
        "plt.ylabel(\"Euclidean Distance\")\n",
        "plt.show()"
      ],
      "metadata": {
        "colab": {
          "base_uri": "https://localhost:8080/",
          "height": 265
        },
        "id": "LXxsfAv8tpOu",
        "outputId": "869d6e03-daf8-4c18-f770-7f0da65b7048"
      },
      "execution_count": 11,
      "outputs": [
        {
          "output_type": "display_data",
          "data": {
            "text/plain": [
              "<Figure size 432x288 with 1 Axes>"
            ],
            "image/png": "[encoded data removed]"
          },
          "metadata": {
            "needs_background": "light"
          }
        }
      ]
    },
    {
      "cell_type": "code",
      "source": [
        "from sklearn.cluster import AgglomerativeClustering\n",
        "model = AgglomerativeClustering(n_clusters=5)"
      ],
      "metadata": {
        "id": "sndG_YgbtzXK"
      },
      "execution_count": 13,
      "outputs": []
    },
    {
      "cell_type": "code",
      "source": [
        "y_pred = model.fit_predict(df)"
      ],
      "metadata": {
        "id": "l6kUOr5rwN65"
      },
      "execution_count": 15,
      "outputs": []
    },
    {
      "cell_type": "code",
      "source": [
        "import matplotlib.pyplot as plt"
      ],
      "metadata": {
        "id": "98ep0PJdw1ej"
      },
      "execution_count": 17,
      "outputs": []
    },
    {
      "cell_type": "code",
      "source": [
        "plt.scatter(df[:,0],df[:,1],c=y_pred)"
      ],
      "metadata": {
        "colab": {
          "base_uri": "https://localhost:8080/",
          "height": 282
        },
        "id": "JIGMt8LpwTnr",
        "outputId": "2aa01b49-c553-4009-8f29-587347e9d708"
      },
      "execution_count": 18,
      "outputs": [
        {
          "output_type": "execute_result",
          "data": {
            "text/plain": [
              "<matplotlib.collections.PathCollection at 0x7f04b9332790>"
            ]
          },
          "metadata": {},
          "execution_count": 18
        },
        {
          "output_type": "display_data",
          "data": {
            "text/plain": [
              "<Figure size 432x288 with 1 Axes>"
            ],
            "image/png": "[encoded data removed]"
          },
          "metadata": {
            "needs_background": "light"
          }
        }
      ]
    },
    {
      "cell_type": "code",
      "source": [
        "plt.scatter(df[y_pred == 0,0],df[y_pred == 0,1], s = 100, c = \"red\", label = \"Cluster1\")\n",
        "plt.scatter(df[y_pred == 1,0],df[y_pred == 1,1], s = 100, c = \"green\", label = \"Cluste2\")\n",
        "plt.scatter(df[y_pred == 2,0],df[y_pred == 2,1], s = 100, c = \"blue\", label = \"Cluster3\")\n",
        "plt.scatter(df[y_pred == 3,0],df[y_pred == 3,1], s = 100, c = \"cyan\", label = \"Cluster4\")\n",
        "plt.scatter(df[y_pred == 4,0],df[y_pred == 4,1], s = 100, c = \"magenta\", label = \"Cluster5\")\n",
        "plt.title(\"Cluster of Customers\")\n",
        "plt.xlabel(\"Annual Income\")\n",
        "plt.ylabel(\"Spending Score\")\n",
        "plt.legend()\n",
        "plt.show()"
      ],
      "metadata": {
        "colab": {
          "base_uri": "https://localhost:8080/",
          "height": 295
        },
        "id": "Dd098vNdwylN",
        "outputId": "2d99c41b-e006-4812-fc94-9b973300f718"
      },
      "execution_count": 24,
      "outputs": [
        {
          "output_type": "display_data",
          "data": {
            "text/plain": [
              "<Figure size 432x288 with 1 Axes>"
            ],
            "image/png": "[encoded data removed]"
          },
          "metadata": {
            "needs_background": "light"
          }
        }
      ]
    },
    {
      "cell_type": "code",
      "source": [],
      "metadata": {
        "id": "3YFgcayByEbX"
      },
      "execution_count": null,
      "outputs": []
    }
  ]
}